{
 "cells": [
  {
   "cell_type": "markdown",
   "metadata": {},
   "source": [
    "The Notebook is intended to show the results of Similar User Model based on Similar User Interest. This is basically a Bag-Of-Words model. This notebook includes similar interest tags as well for displaying the results."
   ]
  },
  {
   "cell_type": "code",
   "execution_count": 7,
   "metadata": {},
   "outputs": [],
   "source": [
    "NUM_SIMILAR_USERS=10"
   ]
  },
  {
   "cell_type": "code",
   "execution_count": 8,
   "metadata": {},
   "outputs": [],
   "source": [
    "import os\n",
    "import sys\n",
    "import pandas as pd"
   ]
  },
  {
   "cell_type": "code",
   "execution_count": 9,
   "metadata": {},
   "outputs": [],
   "source": [
    "nb_dir = os.path.split(os.getcwd())[0]\n",
    "if nb_dir not in sys.path:\n",
    "    sys.path.append(nb_dir)"
   ]
  },
  {
   "cell_type": "code",
   "execution_count": 10,
   "metadata": {},
   "outputs": [],
   "source": [
    "from sklearn.feature_extraction.text import TfidfVectorizer\n",
    "from sklearn.metrics.pairwise import linear_kernel"
   ]
  },
  {
   "cell_type": "code",
   "execution_count": 11,
   "metadata": {},
   "outputs": [],
   "source": [
    "from generator.data.process_data import UserInterestDataProcessor\n",
    "from generator.data.data_utils import split_with_comma\n",
    "from generator.models.similar_interest_model import SimilarInterestUserModel"
   ]
  },
  {
   "cell_type": "code",
   "execution_count": 12,
   "metadata": {},
   "outputs": [],
   "source": [
    "processed_user_interests_df=UserInterestDataProcessor.load_data()"
   ]
  },
  {
   "cell_type": "code",
   "execution_count": 19,
   "metadata": {},
   "outputs": [
    {
     "data": {
      "text/html": [
       "<div>\n",
       "<style scoped>\n",
       "    .dataframe tbody tr th:only-of-type {\n",
       "        vertical-align: middle;\n",
       "    }\n",
       "\n",
       "    .dataframe tbody tr th {\n",
       "        vertical-align: top;\n",
       "    }\n",
       "\n",
       "    .dataframe thead th {\n",
       "        text-align: right;\n",
       "    }\n",
       "</style>\n",
       "<table border=\"1\" class=\"dataframe\">\n",
       "  <thead>\n",
       "    <tr style=\"text-align: right;\">\n",
       "      <th></th>\n",
       "      <th>similar_users</th>\n",
       "      <th>interest_tag</th>\n",
       "      <th>interest_sim_score</th>\n",
       "    </tr>\n",
       "  </thead>\n",
       "  <tbody>\n",
       "    <tr>\n",
       "      <th>0</th>\n",
       "      <td>789</td>\n",
       "      <td>azure-mobile-services,azure,performance-optimi...</td>\n",
       "      <td>1.000000</td>\n",
       "    </tr>\n",
       "    <tr>\n",
       "      <th>1</th>\n",
       "      <td>7516</td>\n",
       "      <td>azure-mobile-services,azure,performance-optimi...</td>\n",
       "      <td>0.727229</td>\n",
       "    </tr>\n",
       "    <tr>\n",
       "      <th>2</th>\n",
       "      <td>5490</td>\n",
       "      <td>azure-mobile-services,azure,performance-optimi...</td>\n",
       "      <td>0.713785</td>\n",
       "    </tr>\n",
       "    <tr>\n",
       "      <th>3</th>\n",
       "      <td>6797</td>\n",
       "      <td>azure-mobile-services,microsoft-azure,docker,a...</td>\n",
       "      <td>0.699366</td>\n",
       "    </tr>\n",
       "    <tr>\n",
       "      <th>4</th>\n",
       "      <td>6672</td>\n",
       "      <td>azure-mobile-services,azure,performance-optimi...</td>\n",
       "      <td>0.689831</td>\n",
       "    </tr>\n",
       "    <tr>\n",
       "      <th>5</th>\n",
       "      <td>2010</td>\n",
       "      <td>app-deployment,vsphere,azure-mobile-services,i...</td>\n",
       "      <td>0.686675</td>\n",
       "    </tr>\n",
       "    <tr>\n",
       "      <th>6</th>\n",
       "      <td>1814</td>\n",
       "      <td>azure-mobile-services,microsoft-azure,performa...</td>\n",
       "      <td>0.685142</td>\n",
       "    </tr>\n",
       "    <tr>\n",
       "      <th>7</th>\n",
       "      <td>8468</td>\n",
       "      <td>microsoft-azure,performance-optimization,sql-s...</td>\n",
       "      <td>0.681018</td>\n",
       "    </tr>\n",
       "    <tr>\n",
       "      <th>8</th>\n",
       "      <td>1141</td>\n",
       "      <td>azure-mobile-services,microsoft-azure,azure,wi...</td>\n",
       "      <td>0.667481</td>\n",
       "    </tr>\n",
       "  </tbody>\n",
       "</table>\n",
       "</div>"
      ],
      "text/plain": [
       "   similar_users                                       interest_tag  \\\n",
       "0            789  azure-mobile-services,azure,performance-optimi...   \n",
       "1           7516  azure-mobile-services,azure,performance-optimi...   \n",
       "2           5490  azure-mobile-services,azure,performance-optimi...   \n",
       "3           6797  azure-mobile-services,microsoft-azure,docker,a...   \n",
       "4           6672  azure-mobile-services,azure,performance-optimi...   \n",
       "5           2010  app-deployment,vsphere,azure-mobile-services,i...   \n",
       "6           1814  azure-mobile-services,microsoft-azure,performa...   \n",
       "7           8468  microsoft-azure,performance-optimization,sql-s...   \n",
       "8           1141  azure-mobile-services,microsoft-azure,azure,wi...   \n",
       "\n",
       "   interest_sim_score  \n",
       "0            1.000000  \n",
       "1            0.727229  \n",
       "2            0.713785  \n",
       "3            0.699366  \n",
       "4            0.689831  \n",
       "5            0.686675  \n",
       "6            0.685142  \n",
       "7            0.681018  \n",
       "8            0.667481  "
      ]
     },
     "execution_count": 19,
     "metadata": {},
     "output_type": "execute_result"
    }
   ],
   "source": [
    "class SimilarInterestUserModel:\n",
    "    def __init__(self, **params):\n",
    "        self.params=params\n",
    "        self.data=None\n",
    "        self.X=None\n",
    "        self.user_index_dict={}\n",
    "    \n",
    "    def fit(self, data): \n",
    "        self.data=data\n",
    "        self.user_index_dict=create_user_indices_from_user_handle(self.data)\n",
    "        tf_vectorizer = TfidfVectorizer(self.params)\n",
    "        self.X = tf_vectorizer.fit_transform(self.data.interest_tag)\n",
    "        return self\n",
    "    \n",
    "    def predict_simiar_users(self, user_handle, num_similar_users=NUM_SIMILAR_USERS):\n",
    "        user=self.user_index_dict[user_handle]\n",
    "        cosine_similarities = linear_kernel(self.X[user], self.X).flatten()\n",
    "        related_docs_indices = cosine_similarities.argsort()[:-num_similar_users:-1]\n",
    "        data = {'similar_users':self.data.loc[related_docs_indices].user_handle.values, \n",
    "                'interest_tag': self.data.loc[related_docs_indices].interest_tag.values,\n",
    "                'interest_sim_score':cosine_similarities[related_docs_indices]} \n",
    "        return pd.DataFrame(data)\n",
    "    \n",
    "def create_user_indices_from_user_handle(data):\n",
    "    user_idx_dict={}\n",
    "    for idx, user in enumerate(data.user_handle.unique()):\n",
    "        if user not in user_idx_dict:\n",
    "            user_idx_dict[user]=idx\n",
    "    return user_idx_dict\n",
    "                   \n",
    "params=dict(analyzer=split_with_comma, min_df=5)  \n",
    "sm=SimilarInterestUserModel(**params)\n",
    "sm.fit(processed_user_interests_df)\n",
    "sm.predict_simiar_users(user_handle=789)"
   ]
  },
  {
   "cell_type": "markdown",
   "metadata": {},
   "source": [
    "The choice of params for the model is somewhat arbitrary and should be tweaked based on inputs of Business Domain Expert"
   ]
  },
  {
   "cell_type": "code",
   "execution_count": null,
   "metadata": {},
   "outputs": [],
   "source": []
  }
 ],
 "metadata": {
  "kernelspec": {
   "display_name": "venv",
   "language": "python",
   "name": "venv"
  },
  "language_info": {
   "codemirror_mode": {
    "name": "ipython",
    "version": 3
   },
   "file_extension": ".py",
   "mimetype": "text/x-python",
   "name": "python",
   "nbconvert_exporter": "python",
   "pygments_lexer": "ipython3",
   "version": "3.7.1"
  }
 },
 "nbformat": 4,
 "nbformat_minor": 1
}
