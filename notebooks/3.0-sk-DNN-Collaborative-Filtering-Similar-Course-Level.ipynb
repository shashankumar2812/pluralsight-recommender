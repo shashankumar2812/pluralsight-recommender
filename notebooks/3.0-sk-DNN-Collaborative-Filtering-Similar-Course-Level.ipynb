{
 "cells": [
  {
   "cell_type": "markdown",
   "metadata": {},
   "source": [
    "The Notebook has a approach for finding Similar users where the problem formulation goes as follows: Similar users watch courses with similar difficulty level. For instance, if a user X1 watched a course Y1 with difficulty level beginner, so she/he will be similar to User X2 who watched the same course Y1. So, if we can create such a Neural Network which can figure out a target level for a particular user based on User-Course viewing interaction with User Embedding layer, we can utlizing that layer to find similar users in the Embedding space."
   ]
  },
  {
   "cell_type": "code",
   "execution_count": 21,
   "metadata": {},
   "outputs": [],
   "source": [
    "NUM_SIMILAR_USERS=10\n",
    "RANDOM_STATE=101"
   ]
  },
  {
   "cell_type": "code",
   "execution_count": 22,
   "metadata": {},
   "outputs": [],
   "source": [
    "import warnings\n",
    "warnings.filterwarnings('ignore')"
   ]
  },
  {
   "cell_type": "code",
   "execution_count": 23,
   "metadata": {},
   "outputs": [],
   "source": [
    "import heapq"
   ]
  },
  {
   "cell_type": "code",
   "execution_count": 24,
   "metadata": {},
   "outputs": [],
   "source": [
    "import os\n",
    "import sys\n",
    "from datetime import datetime\n",
    "import numpy as np\n",
    "import pandas as pd\n",
    "from matplotlib import pyplot as plt\n",
    "%matplotlib inline"
   ]
  },
  {
   "cell_type": "code",
   "execution_count": 25,
   "metadata": {},
   "outputs": [],
   "source": [
    "from sklearn.model_selection import train_test_split"
   ]
  },
  {
   "cell_type": "code",
   "execution_count": 26,
   "metadata": {},
   "outputs": [],
   "source": [
    "import tensorflow as tf"
   ]
  },
  {
   "cell_type": "code",
   "execution_count": 27,
   "metadata": {},
   "outputs": [],
   "source": [
    "current_time=datetime.now().strftime(\"%Y%m%d-%H%M%S\")"
   ]
  },
  {
   "cell_type": "code",
   "execution_count": 28,
   "metadata": {},
   "outputs": [],
   "source": [
    "nb_dir = os.path.split(os.getcwd())[0]\n",
    "if nb_dir not in sys.path:\n",
    "    sys.path.append(nb_dir)"
   ]
  },
  {
   "cell_type": "code",
   "execution_count": 29,
   "metadata": {},
   "outputs": [],
   "source": [
    "LOG_DIR=nb_dir+ \"/logs/fit/\" + current_time\n",
    "MODEL_NAME='dnn'"
   ]
  },
  {
   "cell_type": "markdown",
   "metadata": {},
   "source": [
    "# Data Ingestion"
   ]
  },
  {
   "cell_type": "code",
   "execution_count": 30,
   "metadata": {},
   "outputs": [],
   "source": [
    "from paths import course_tags_file, user_assessment_scores_file, user_course_views_file, interests_file"
   ]
  },
  {
   "cell_type": "code",
   "execution_count": 31,
   "metadata": {},
   "outputs": [
    {
     "data": {
      "text/plain": [
       "['/Users/skumar/projects/personal/pluralsight-recommender/data/raw/course_tags.csv',\n",
       " '/Users/skumar/projects/personal/pluralsight-recommender/data/raw/user_assessment_scores.csv',\n",
       " '/Users/skumar/projects/personal/pluralsight-recommender/data/raw/user_course_views.csv',\n",
       " '/Users/skumar/projects/personal/pluralsight-recommender/data/raw/user_interests.csv']"
      ]
     },
     "execution_count": 31,
     "metadata": {},
     "output_type": "execute_result"
    }
   ],
   "source": [
    "file_paths=[course_tags_file, user_assessment_scores_file, user_course_views_file, interests_file]\n",
    "file_paths"
   ]
  },
  {
   "cell_type": "code",
   "execution_count": 32,
   "metadata": {},
   "outputs": [],
   "source": [
    "course_tags_df=pd.read_csv(file_paths[0])\n",
    "user_assessment_scores_df=pd.read_csv(file_paths[1])\n",
    "user_course_views_df=pd.read_csv(file_paths[2])\n",
    "user_interests_df=pd.read_csv(file_paths[3])"
   ]
  },
  {
   "cell_type": "code",
   "execution_count": 33,
   "metadata": {},
   "outputs": [],
   "source": [
    "user_course_views_df=user_course_views_df[user_course_views_df.view_time_seconds>0]"
   ]
  },
  {
   "cell_type": "code",
   "execution_count": 34,
   "metadata": {},
   "outputs": [],
   "source": [
    "course_level_dict=dict(zip(user_course_views_df.course_id, user_course_views_df.level))"
   ]
  },
  {
   "cell_type": "code",
   "execution_count": 35,
   "metadata": {},
   "outputs": [],
   "source": [
    "user_idx_dict={}\n",
    "course_idx_dict={}\n",
    "\n",
    "for idx, user in enumerate(user_course_views_df.user_handle.unique()):\n",
    "    if user not in user_idx_dict:\n",
    "        user_idx_dict[user]=idx\n",
    "        \n",
    "for idx, course in enumerate(course_tags_df.course_id.unique()):\n",
    "    if course not in course_idx_dict:\n",
    "        course_idx_dict[course]=idx"
   ]
  },
  {
   "cell_type": "code",
   "execution_count": 36,
   "metadata": {},
   "outputs": [],
   "source": [
    "processed_user_interests_df=user_interests_df.groupby(['user_handle'])['interest_tag'].apply(lambda x: ','.join(x)).reset_index()"
   ]
  },
  {
   "cell_type": "code",
   "execution_count": 40,
   "metadata": {},
   "outputs": [],
   "source": [
    "processed_user_interests_df['user']=processed_user_interests_df['user_handle'].map(user_idx_dict)"
   ]
  },
  {
   "cell_type": "code",
   "execution_count": 42,
   "metadata": {},
   "outputs": [],
   "source": [
    "total_view_time_df=user_course_views_df.groupby(['user_handle', 'course_id']).agg({'view_time_seconds':'sum'}).reset_index()"
   ]
  },
  {
   "cell_type": "code",
   "execution_count": 43,
   "metadata": {},
   "outputs": [],
   "source": [
    "total_view_time_df=total_view_time_df[total_view_time_df.view_time_seconds>0]"
   ]
  },
  {
   "cell_type": "code",
   "execution_count": 44,
   "metadata": {},
   "outputs": [
    {
     "data": {
      "text/html": [
       "<div>\n",
       "<style scoped>\n",
       "    .dataframe tbody tr th:only-of-type {\n",
       "        vertical-align: middle;\n",
       "    }\n",
       "\n",
       "    .dataframe tbody tr th {\n",
       "        vertical-align: top;\n",
       "    }\n",
       "\n",
       "    .dataframe thead th {\n",
       "        text-align: right;\n",
       "    }\n",
       "</style>\n",
       "<table border=\"1\" class=\"dataframe\">\n",
       "  <thead>\n",
       "    <tr style=\"text-align: right;\">\n",
       "      <th></th>\n",
       "      <th>user_handle</th>\n",
       "      <th>course_id</th>\n",
       "      <th>view_time_seconds</th>\n",
       "    </tr>\n",
       "  </thead>\n",
       "  <tbody>\n",
       "    <tr>\n",
       "      <th>0</th>\n",
       "      <td>1</td>\n",
       "      <td>aws-certified-solutions-architect-professional</td>\n",
       "      <td>102</td>\n",
       "    </tr>\n",
       "    <tr>\n",
       "      <th>1</th>\n",
       "      <td>1</td>\n",
       "      <td>aws-certified-sysops-admin-associate</td>\n",
       "      <td>83</td>\n",
       "    </tr>\n",
       "    <tr>\n",
       "      <th>2</th>\n",
       "      <td>1</td>\n",
       "      <td>aws-system-admin-fundamentals</td>\n",
       "      <td>2665</td>\n",
       "    </tr>\n",
       "    <tr>\n",
       "      <th>3</th>\n",
       "      <td>1</td>\n",
       "      <td>cpt-sp2010-web-designers-branding-intro</td>\n",
       "      <td>4884</td>\n",
       "    </tr>\n",
       "    <tr>\n",
       "      <th>4</th>\n",
       "      <td>1</td>\n",
       "      <td>cpt-sp2010-web-designers-css</td>\n",
       "      <td>4959</td>\n",
       "    </tr>\n",
       "  </tbody>\n",
       "</table>\n",
       "</div>"
      ],
      "text/plain": [
       "   user_handle                                       course_id  \\\n",
       "0            1  aws-certified-solutions-architect-professional   \n",
       "1            1            aws-certified-sysops-admin-associate   \n",
       "2            1                   aws-system-admin-fundamentals   \n",
       "3            1         cpt-sp2010-web-designers-branding-intro   \n",
       "4            1                    cpt-sp2010-web-designers-css   \n",
       "\n",
       "   view_time_seconds  \n",
       "0                102  \n",
       "1                 83  \n",
       "2               2665  \n",
       "3               4884  \n",
       "4               4959  "
      ]
     },
     "execution_count": 44,
     "metadata": {},
     "output_type": "execute_result"
    }
   ],
   "source": [
    "total_view_time_df.head()"
   ]
  },
  {
   "cell_type": "code",
   "execution_count": 45,
   "metadata": {},
   "outputs": [],
   "source": [
    "total_view_time_df['user']=total_view_time_df['user_handle'].map(user_idx_dict)\n",
    "total_view_time_df['course']=total_view_time_df['course_id'].map(course_idx_dict)\n",
    "reverse_user_dict={val:key for key,val in user_idx_dict.items()}\n",
    "reverse_course_idx_dict={val:key for key, val in course_idx_dict.items()}"
   ]
  },
  {
   "cell_type": "code",
   "execution_count": 46,
   "metadata": {},
   "outputs": [
    {
     "data": {
      "text/html": [
       "<div>\n",
       "<style scoped>\n",
       "    .dataframe tbody tr th:only-of-type {\n",
       "        vertical-align: middle;\n",
       "    }\n",
       "\n",
       "    .dataframe tbody tr th {\n",
       "        vertical-align: top;\n",
       "    }\n",
       "\n",
       "    .dataframe thead th {\n",
       "        text-align: right;\n",
       "    }\n",
       "</style>\n",
       "<table border=\"1\" class=\"dataframe\">\n",
       "  <thead>\n",
       "    <tr style=\"text-align: right;\">\n",
       "      <th></th>\n",
       "      <th>user_handle</th>\n",
       "      <th>course_id</th>\n",
       "      <th>view_time_seconds</th>\n",
       "      <th>user</th>\n",
       "      <th>course</th>\n",
       "    </tr>\n",
       "  </thead>\n",
       "  <tbody>\n",
       "    <tr>\n",
       "      <th>0</th>\n",
       "      <td>1</td>\n",
       "      <td>aws-certified-solutions-architect-professional</td>\n",
       "      <td>102</td>\n",
       "      <td>0</td>\n",
       "      <td>587</td>\n",
       "    </tr>\n",
       "    <tr>\n",
       "      <th>1</th>\n",
       "      <td>1</td>\n",
       "      <td>aws-certified-sysops-admin-associate</td>\n",
       "      <td>83</td>\n",
       "      <td>0</td>\n",
       "      <td>588</td>\n",
       "    </tr>\n",
       "    <tr>\n",
       "      <th>2</th>\n",
       "      <td>1</td>\n",
       "      <td>aws-system-admin-fundamentals</td>\n",
       "      <td>2665</td>\n",
       "      <td>0</td>\n",
       "      <td>607</td>\n",
       "    </tr>\n",
       "    <tr>\n",
       "      <th>3</th>\n",
       "      <td>1</td>\n",
       "      <td>cpt-sp2010-web-designers-branding-intro</td>\n",
       "      <td>4884</td>\n",
       "      <td>0</td>\n",
       "      <td>1279</td>\n",
       "    </tr>\n",
       "    <tr>\n",
       "      <th>4</th>\n",
       "      <td>1</td>\n",
       "      <td>cpt-sp2010-web-designers-css</td>\n",
       "      <td>4959</td>\n",
       "      <td>0</td>\n",
       "      <td>1281</td>\n",
       "    </tr>\n",
       "  </tbody>\n",
       "</table>\n",
       "</div>"
      ],
      "text/plain": [
       "   user_handle                                       course_id  \\\n",
       "0            1  aws-certified-solutions-architect-professional   \n",
       "1            1            aws-certified-sysops-admin-associate   \n",
       "2            1                   aws-system-admin-fundamentals   \n",
       "3            1         cpt-sp2010-web-designers-branding-intro   \n",
       "4            1                    cpt-sp2010-web-designers-css   \n",
       "\n",
       "   view_time_seconds  user  course  \n",
       "0                102     0     587  \n",
       "1                 83     0     588  \n",
       "2               2665     0     607  \n",
       "3               4884     0    1279  \n",
       "4               4959     0    1281  "
      ]
     },
     "execution_count": 46,
     "metadata": {},
     "output_type": "execute_result"
    }
   ],
   "source": [
    "total_view_time_df.head()"
   ]
  },
  {
   "cell_type": "code",
   "execution_count": null,
   "metadata": {},
   "outputs": [],
   "source": []
  },
  {
   "cell_type": "code",
   "execution_count": 47,
   "metadata": {},
   "outputs": [],
   "source": [
    "total_view_time_df['level']=total_view_time_df['course_id'].map(course_level_dict)"
   ]
  },
  {
   "cell_type": "code",
   "execution_count": 48,
   "metadata": {},
   "outputs": [
    {
     "data": {
      "text/html": [
       "<div>\n",
       "<style scoped>\n",
       "    .dataframe tbody tr th:only-of-type {\n",
       "        vertical-align: middle;\n",
       "    }\n",
       "\n",
       "    .dataframe tbody tr th {\n",
       "        vertical-align: top;\n",
       "    }\n",
       "\n",
       "    .dataframe thead th {\n",
       "        text-align: right;\n",
       "    }\n",
       "</style>\n",
       "<table border=\"1\" class=\"dataframe\">\n",
       "  <thead>\n",
       "    <tr style=\"text-align: right;\">\n",
       "      <th></th>\n",
       "      <th>user_handle</th>\n",
       "      <th>course_id</th>\n",
       "      <th>view_time_seconds</th>\n",
       "      <th>user</th>\n",
       "      <th>course</th>\n",
       "      <th>level</th>\n",
       "    </tr>\n",
       "  </thead>\n",
       "  <tbody>\n",
       "    <tr>\n",
       "      <th>0</th>\n",
       "      <td>1</td>\n",
       "      <td>aws-certified-solutions-architect-professional</td>\n",
       "      <td>102</td>\n",
       "      <td>0</td>\n",
       "      <td>587</td>\n",
       "      <td>Advanced</td>\n",
       "    </tr>\n",
       "    <tr>\n",
       "      <th>1</th>\n",
       "      <td>1</td>\n",
       "      <td>aws-certified-sysops-admin-associate</td>\n",
       "      <td>83</td>\n",
       "      <td>0</td>\n",
       "      <td>588</td>\n",
       "      <td>Intermediate</td>\n",
       "    </tr>\n",
       "    <tr>\n",
       "      <th>2</th>\n",
       "      <td>1</td>\n",
       "      <td>aws-system-admin-fundamentals</td>\n",
       "      <td>2665</td>\n",
       "      <td>0</td>\n",
       "      <td>607</td>\n",
       "      <td>Beginner</td>\n",
       "    </tr>\n",
       "    <tr>\n",
       "      <th>3</th>\n",
       "      <td>1</td>\n",
       "      <td>cpt-sp2010-web-designers-branding-intro</td>\n",
       "      <td>4884</td>\n",
       "      <td>0</td>\n",
       "      <td>1279</td>\n",
       "      <td>Beginner</td>\n",
       "    </tr>\n",
       "    <tr>\n",
       "      <th>4</th>\n",
       "      <td>1</td>\n",
       "      <td>cpt-sp2010-web-designers-css</td>\n",
       "      <td>4959</td>\n",
       "      <td>0</td>\n",
       "      <td>1281</td>\n",
       "      <td>Intermediate</td>\n",
       "    </tr>\n",
       "  </tbody>\n",
       "</table>\n",
       "</div>"
      ],
      "text/plain": [
       "   user_handle                                       course_id  \\\n",
       "0            1  aws-certified-solutions-architect-professional   \n",
       "1            1            aws-certified-sysops-admin-associate   \n",
       "2            1                   aws-system-admin-fundamentals   \n",
       "3            1         cpt-sp2010-web-designers-branding-intro   \n",
       "4            1                    cpt-sp2010-web-designers-css   \n",
       "\n",
       "   view_time_seconds  user  course         level  \n",
       "0                102     0     587      Advanced  \n",
       "1                 83     0     588  Intermediate  \n",
       "2               2665     0     607      Beginner  \n",
       "3               4884     0    1279      Beginner  \n",
       "4               4959     0    1281  Intermediate  "
      ]
     },
     "execution_count": 48,
     "metadata": {},
     "output_type": "execute_result"
    }
   ],
   "source": [
    "total_view_time_df.head()"
   ]
  },
  {
   "cell_type": "code",
   "execution_count": 49,
   "metadata": {},
   "outputs": [],
   "source": [
    "num_users=total_view_time_df.user.max()\n",
    "num_courses=total_view_time_df.course.max()"
   ]
  },
  {
   "cell_type": "markdown",
   "metadata": {},
   "source": [
    "## Approx number of embeddings to start with\n",
    "\n",
    "This is an emprical process to experiment with different number of embeddings but 4th root of input is considered a good starting point. Reference: https://developers.google.com/machine-learning/crash-course/embeddings/video-lecture"
   ]
  },
  {
   "cell_type": "code",
   "execution_count": 50,
   "metadata": {},
   "outputs": [
    {
     "data": {
      "text/plain": [
       "9.67416814660946"
      ]
     },
     "execution_count": 50,
     "metadata": {},
     "output_type": "execute_result"
    }
   ],
   "source": [
    "num_users**(1/4)"
   ]
  },
  {
   "cell_type": "code",
   "execution_count": 51,
   "metadata": {},
   "outputs": [
    {
     "data": {
      "text/plain": [
       "8.779401043930761"
      ]
     },
     "execution_count": 51,
     "metadata": {},
     "output_type": "execute_result"
    }
   ],
   "source": [
    "num_courses**(1/4)"
   ]
  },
  {
   "cell_type": "code",
   "execution_count": 52,
   "metadata": {},
   "outputs": [
    {
     "data": {
      "text/html": [
       "<div>\n",
       "<style scoped>\n",
       "    .dataframe tbody tr th:only-of-type {\n",
       "        vertical-align: middle;\n",
       "    }\n",
       "\n",
       "    .dataframe tbody tr th {\n",
       "        vertical-align: top;\n",
       "    }\n",
       "\n",
       "    .dataframe thead th {\n",
       "        text-align: right;\n",
       "    }\n",
       "</style>\n",
       "<table border=\"1\" class=\"dataframe\">\n",
       "  <thead>\n",
       "    <tr style=\"text-align: right;\">\n",
       "      <th></th>\n",
       "      <th>user_handle</th>\n",
       "      <th>course_id</th>\n",
       "      <th>view_time_seconds</th>\n",
       "      <th>user</th>\n",
       "      <th>course</th>\n",
       "      <th>level</th>\n",
       "    </tr>\n",
       "  </thead>\n",
       "  <tbody>\n",
       "    <tr>\n",
       "      <th>0</th>\n",
       "      <td>1</td>\n",
       "      <td>aws-certified-solutions-architect-professional</td>\n",
       "      <td>102</td>\n",
       "      <td>0</td>\n",
       "      <td>587</td>\n",
       "      <td>Advanced</td>\n",
       "    </tr>\n",
       "    <tr>\n",
       "      <th>1</th>\n",
       "      <td>1</td>\n",
       "      <td>aws-certified-sysops-admin-associate</td>\n",
       "      <td>83</td>\n",
       "      <td>0</td>\n",
       "      <td>588</td>\n",
       "      <td>Intermediate</td>\n",
       "    </tr>\n",
       "    <tr>\n",
       "      <th>2</th>\n",
       "      <td>1</td>\n",
       "      <td>aws-system-admin-fundamentals</td>\n",
       "      <td>2665</td>\n",
       "      <td>0</td>\n",
       "      <td>607</td>\n",
       "      <td>Beginner</td>\n",
       "    </tr>\n",
       "    <tr>\n",
       "      <th>3</th>\n",
       "      <td>1</td>\n",
       "      <td>cpt-sp2010-web-designers-branding-intro</td>\n",
       "      <td>4884</td>\n",
       "      <td>0</td>\n",
       "      <td>1279</td>\n",
       "      <td>Beginner</td>\n",
       "    </tr>\n",
       "    <tr>\n",
       "      <th>4</th>\n",
       "      <td>1</td>\n",
       "      <td>cpt-sp2010-web-designers-css</td>\n",
       "      <td>4959</td>\n",
       "      <td>0</td>\n",
       "      <td>1281</td>\n",
       "      <td>Intermediate</td>\n",
       "    </tr>\n",
       "  </tbody>\n",
       "</table>\n",
       "</div>"
      ],
      "text/plain": [
       "   user_handle                                       course_id  \\\n",
       "0            1  aws-certified-solutions-architect-professional   \n",
       "1            1            aws-certified-sysops-admin-associate   \n",
       "2            1                   aws-system-admin-fundamentals   \n",
       "3            1         cpt-sp2010-web-designers-branding-intro   \n",
       "4            1                    cpt-sp2010-web-designers-css   \n",
       "\n",
       "   view_time_seconds  user  course         level  \n",
       "0                102     0     587      Advanced  \n",
       "1                 83     0     588  Intermediate  \n",
       "2               2665     0     607      Beginner  \n",
       "3               4884     0    1279      Beginner  \n",
       "4               4959     0    1281  Intermediate  "
      ]
     },
     "execution_count": 52,
     "metadata": {},
     "output_type": "execute_result"
    }
   ],
   "source": [
    "total_view_time_df.head()"
   ]
  },
  {
   "cell_type": "code",
   "execution_count": 53,
   "metadata": {},
   "outputs": [],
   "source": [
    "target_map_dict={\n",
    "    'Advanced':2,\n",
    "    'Intermediate':1,\n",
    "    'Beginner':0\n",
    "}\n",
    "modified_df=total_view_time_df.copy()\n",
    "modified_df['target']=total_view_time_df['level'].map(target_map_dict)"
   ]
  },
  {
   "cell_type": "markdown",
   "metadata": {},
   "source": [
    "# Train Test Split"
   ]
  },
  {
   "cell_type": "code",
   "execution_count": 54,
   "metadata": {},
   "outputs": [
    {
     "data": {
      "text/plain": [
       "1    50224\n",
       "0    47893\n",
       "2     7207\n",
       "Name: target, dtype: int64"
      ]
     },
     "execution_count": 54,
     "metadata": {},
     "output_type": "execute_result"
    }
   ],
   "source": [
    "modified_df.target.value_counts()"
   ]
  },
  {
   "cell_type": "markdown",
   "metadata": {},
   "source": [
    "As there is an imbalance in the target class, so we will use stratified splits for train, test and val sets to make sure they are have the same ratio of all the classes"
   ]
  },
  {
   "cell_type": "code",
   "execution_count": 55,
   "metadata": {},
   "outputs": [],
   "source": [
    "input_df=modified_df[['user', 'course','target']]\n",
    "\n",
    "train, test = train_test_split(input_df, test_size=0.1, random_state=RANDOM_STATE,stratify=input_df.target)\n",
    "train, val = train_test_split(train, test_size=0.1, random_state=RANDOM_STATE,stratify=train.target)"
   ]
  },
  {
   "cell_type": "code",
   "execution_count": 56,
   "metadata": {},
   "outputs": [
    {
     "data": {
      "text/plain": [
       "0.14348221528477667"
      ]
     },
     "execution_count": 56,
     "metadata": {},
     "output_type": "execute_result"
    }
   ],
   "source": [
    "train.target.value_counts().min()/train.target.value_counts().max()"
   ]
  },
  {
   "cell_type": "code",
   "execution_count": 57,
   "metadata": {},
   "outputs": [
    {
     "data": {
      "text/plain": [
       "0.14358407079646018"
      ]
     },
     "execution_count": 57,
     "metadata": {},
     "output_type": "execute_result"
    }
   ],
   "source": [
    "val.target.value_counts().min()/val.target.value_counts().max()"
   ]
  },
  {
   "cell_type": "code",
   "execution_count": 58,
   "metadata": {},
   "outputs": [
    {
     "data": {
      "text/plain": [
       "0.1435397173004181"
      ]
     },
     "execution_count": 58,
     "metadata": {},
     "output_type": "execute_result"
    }
   ],
   "source": [
    "test.target.value_counts().min()/test.target.value_counts().max()"
   ]
  },
  {
   "cell_type": "markdown",
   "metadata": {},
   "source": [
    "## Keras Callbacks"
   ]
  },
  {
   "cell_type": "code",
   "execution_count": 59,
   "metadata": {},
   "outputs": [],
   "source": [
    "checkpoint_path = nb_dir+'/generator/models/'+f\"trained_{MODEL_NAME}/cp.ckpt\"\n",
    "checkpoint_dir = os.path.dirname(checkpoint_path)"
   ]
  },
  {
   "cell_type": "code",
   "execution_count": 60,
   "metadata": {},
   "outputs": [],
   "source": [
    "class TrainStopCallback(tf.keras.callbacks.Callback):\n",
    "    def __init__(self, expected_accuracy):\n",
    "        self.expected_accuracy=expected_accuracy\n",
    "    def on_epoch_end(self, epoch, logs={}):\n",
    "        if logs.get('accuracy')>self.expected_accuracy:\n",
    "            print(f\"\\n Training will stop because expected training accuracy {self.expected_accuracy} is acheived\")\n",
    "            self.model.stop_training=True\n",
    "\n",
    "class ModelCheckPoint:     \n",
    "    def save(self, checkpoint_path):\n",
    "        model_cp_callback = tf.keras.callbacks.ModelCheckpoint(checkpoint_path  , monitor='val_loss', save_best_only=True)\n",
    "        return model_cp_callback\n",
    "\n",
    "train_stop_callback=TrainStopCallback(expected_accuracy=.999)   \n",
    "cp_callback=ModelCheckPoint().save(checkpoint_path)\n",
    "tensorboard_callback = tf.keras.callbacks.TensorBoard(log_dir=LOG_DIR, histogram_freq=1)"
   ]
  },
  {
   "cell_type": "code",
   "execution_count": 61,
   "metadata": {},
   "outputs": [],
   "source": [
    "def plot_metric(history, attr='accuracy'):\n",
    "    pd.Series(history.history[attr]).plot()\n",
    "    pd.Series(history.history[f\"val_{attr}\"]).plot()\n",
    "    plt.xlabel(\"Epoch\")\n",
    "    plt.ylabel(f\"Train/Validation {attr}\")"
   ]
  },
  {
   "cell_type": "markdown",
   "metadata": {},
   "source": [
    "# Deep Neural Network Classifier"
   ]
  },
  {
   "cell_type": "markdown",
   "metadata": {},
   "source": [
    "## Iteration 1"
   ]
  },
  {
   "cell_type": "code",
   "execution_count": 62,
   "metadata": {},
   "outputs": [
    {
     "name": "stdout",
     "output_type": "stream",
     "text": [
      "Train on 85311 samples, validate on 9480 samples\n",
      "Epoch 1/50\n",
      "84224/85311 [============================>.] - ETA: 0s - loss: 0.8908 - accuracy: 0.8083WARNING:tensorflow:From /Users/skumar/projects/personal/pluralsight-recommender/venv/lib/python3.7/site-packages/tensorflow_core/python/ops/resource_variable_ops.py:1786: calling BaseResourceVariable.__init__ (from tensorflow.python.ops.resource_variable_ops) with constraint is deprecated and will be removed in a future version.\n",
      "Instructions for updating:\n",
      "If using Keras pass *_constraint arguments to layers.\n",
      "INFO:tensorflow:Assets written to: /Users/skumar/projects/personal/pluralsight-recommender/generator/models/trained_dnn/cp.ckpt/assets\n",
      "85311/85311 [==============================] - 2s 26us/sample - loss: 0.8912 - accuracy: 0.8089 - val_loss: 0.9196 - val_accuracy: 0.8621\n",
      "Epoch 2/50\n",
      "84352/85311 [============================>.] - ETA: 0s - loss: 0.9091 - accuracy: 0.8771INFO:tensorflow:Assets written to: /Users/skumar/projects/personal/pluralsight-recommender/generator/models/trained_dnn/cp.ckpt/assets\n",
      "85311/85311 [==============================] - 2s 21us/sample - loss: 0.9093 - accuracy: 0.8771 - val_loss: 0.9168 - val_accuracy: 0.8870\n",
      "Epoch 3/50\n",
      "85311/85311 [==============================] - 1s 14us/sample - loss: 0.9283 - accuracy: 0.9048 - val_loss: 0.9756 - val_accuracy: 0.9129\n",
      "Epoch 4/50\n",
      "85311/85311 [==============================] - 1s 15us/sample - loss: 0.9284 - accuracy: 0.9235 - val_loss: 0.9176 - val_accuracy: 0.9297\n",
      "Epoch 5/50\n",
      "82944/85311 [============================>.] - ETA: 0s - loss: 0.9158 - accuracy: 0.9386 ETA: 0s - loss: 0.910 - ETA: 0s - loss: 0.9170 - accuracy: 0.9388INFO:tensorflow:Assets written to: /Users/skumar/projects/personal/pluralsight-recommender/generator/models/trained_dnn/cp.ckpt/assets\n",
      "85311/85311 [==============================] - 2s 18us/sample - loss: 0.9166 - accuracy: 0.9390 - val_loss: 0.8934 - val_accuracy: 0.9422\n",
      "Epoch 6/50\n",
      "85311/85311 [==============================] - 1s 13us/sample - loss: 0.8991 - accuracy: 0.9495 - val_loss: 0.9509 - val_accuracy: 0.9544\n",
      "Epoch 7/50\n",
      "85311/85311 [==============================] - 1s 12us/sample - loss: 0.9026 - accuracy: 0.9563 - val_loss: 0.8968 - val_accuracy: 0.9551\n",
      "Epoch 8/50\n",
      "85311/85311 [==============================] - 1s 13us/sample - loss: 0.8926 - accuracy: 0.9618 - val_loss: 0.9062 - val_accuracy: 0.9640\n",
      "Epoch 9/50\n",
      "85311/85311 [==============================] - 1s 15us/sample - loss: 0.9043 - accuracy: 0.9654 - val_loss: 0.9137 - val_accuracy: 0.9700\n",
      "Epoch 10/50\n",
      "85311/85311 [==============================] - 1s 13us/sample - loss: 0.9058 - accuracy: 0.9694 - val_loss: 0.9186 - val_accuracy: 0.9690\n",
      "Epoch 11/50\n",
      "85311/85311 [==============================] - 1s 16us/sample - loss: 0.9200 - accuracy: 0.9722 - val_loss: 0.9117 - val_accuracy: 0.97199089 - ac\n",
      "Epoch 12/50\n",
      "85311/85311 [==============================] - 1s 12us/sample - loss: 0.9303 - accuracy: 0.9739 - val_loss: 0.9823 - val_accuracy: 0.9751\n",
      "Epoch 13/50\n",
      "85311/85311 [==============================] - 1s 15us/sample - loss: 0.9462 - accuracy: 0.9762 - val_loss: 0.9927 - val_accuracy: 0.9770\n",
      "Epoch 14/50\n",
      "85311/85311 [==============================] - 1s 12us/sample - loss: 0.9485 - accuracy: 0.9785 - val_loss: 1.0006 - val_accuracy: 0.9792\n",
      "Epoch 15/50\n",
      "85311/85311 [==============================] - 1s 12us/sample - loss: 0.9674 - accuracy: 0.9797 - val_loss: 1.0508 - val_accuracy: 0.9804\n",
      "Epoch 16/50\n",
      "85311/85311 [==============================] - 1s 12us/sample - loss: 0.9764 - accuracy: 0.9814 - val_loss: 1.0191 - val_accuracy: 0.9780\n",
      "Epoch 17/50\n",
      "85311/85311 [==============================] - 1s 12us/sample - loss: 0.9943 - accuracy: 0.9829 - val_loss: 1.0179 - val_accuracy: 0.9827\n",
      "Epoch 18/50\n",
      "85311/85311 [==============================] - 1s 14us/sample - loss: 1.0196 - accuracy: 0.9834 - val_loss: 0.9788 - val_accuracy: 0.9823\n",
      "Epoch 19/50\n",
      "85311/85311 [==============================] - 1s 16us/sample - loss: 1.0313 - accuracy: 0.9844 - val_loss: 1.0364 - val_accuracy: 0.9845\n",
      "Epoch 20/50\n",
      "85311/85311 [==============================] - 1s 14us/sample - loss: 1.0435 - accuracy: 0.9859 - val_loss: 1.0981 - val_accuracy: 0.9829\n",
      "Epoch 21/50\n",
      "85311/85311 [==============================] - 1s 14us/sample - loss: 1.0573 - accuracy: 0.9863 - val_loss: 1.1631 - val_accuracy: 0.9867\n",
      "Epoch 22/50\n",
      "85311/85311 [==============================] - 1s 14us/sample - loss: 1.0681 - accuracy: 0.9870 - val_loss: 1.1918 - val_accuracy: 0.9863\n",
      "Epoch 23/50\n",
      "85311/85311 [==============================] - 1s 12us/sample - loss: 1.0965 - accuracy: 0.9879 - val_loss: 1.0894 - val_accuracy: 0.9876\n",
      "Epoch 24/50\n",
      "85311/85311 [==============================] - 1s 12us/sample - loss: 1.1036 - accuracy: 0.9883 - val_loss: 1.2210 - val_accuracy: 0.9848\n",
      "Epoch 25/50\n",
      "85311/85311 [==============================] - 1s 12us/sample - loss: 1.1139 - accuracy: 0.9889 - val_loss: 1.2066 - val_accuracy: 0.9873\n",
      "Epoch 26/50\n",
      "85311/85311 [==============================] - 1s 13us/sample - loss: 1.1279 - accuracy: 0.9894 - val_loss: 1.1462 - val_accuracy: 0.9892\n",
      "Epoch 27/50\n",
      "85311/85311 [==============================] - 1s 12us/sample - loss: 1.1419 - accuracy: 0.9896 - val_loss: 1.2971 - val_accuracy: 0.9885\n",
      "Epoch 28/50\n",
      "85311/85311 [==============================] - 1s 12us/sample - loss: 1.1402 - accuracy: 0.9904 - val_loss: 1.2904 - val_accuracy: 0.9872\n",
      "Epoch 29/50\n",
      "85311/85311 [==============================] - 1s 15us/sample - loss: 1.1764 - accuracy: 0.9904 - val_loss: 1.2830 - val_accuracy: 0.9903\n",
      "Epoch 30/50\n",
      "85311/85311 [==============================] - 1s 13us/sample - loss: 1.1638 - accuracy: 0.9912 - val_loss: 1.2731 - val_accuracy: 0.9895\n",
      "Epoch 31/50\n",
      "85311/85311 [==============================] - 1s 15us/sample - loss: 1.1740 - accuracy: 0.9914 - val_loss: 1.4228 - val_accuracy: 0.9905\n",
      "Epoch 32/50\n",
      "85311/85311 [==============================] - 1s 13us/sample - loss: 1.1785 - accuracy: 0.9916 - val_loss: 1.3707 - val_accuracy: 0.9907\n",
      "Epoch 33/50\n",
      "85311/85311 [==============================] - 1s 15us/sample - loss: 1.2006 - accuracy: 0.9919 - val_loss: 1.3458 - val_accuracy: 0.9903\n",
      "Epoch 34/50\n",
      "85311/85311 [==============================] - 1s 15us/sample - loss: 1.2121 - accuracy: 0.9921 - val_loss: 1.2480 - val_accuracy: 0.9896\n",
      "Epoch 35/50\n",
      "85311/85311 [==============================] - 1s 16us/sample - loss: 1.2176 - accuracy: 0.9919 - val_loss: 1.3627 - val_accuracy: 0.9911\n",
      "Epoch 36/50\n",
      "85311/85311 [==============================] - 1s 14us/sample - loss: 1.2208 - accuracy: 0.9928 - val_loss: 1.4247 - val_accuracy: 0.9902\n",
      "Epoch 37/50\n",
      "85311/85311 [==============================] - 1s 14us/sample - loss: 1.2402 - accuracy: 0.9931 - val_loss: 1.3332 - val_accuracy: 0.9904\n",
      "Epoch 38/50\n",
      "85311/85311 [==============================] - 1s 14us/sample - loss: 1.2296 - accuracy: 0.9929 - val_loss: 1.4433 - val_accuracy: 0.9915\n",
      "Epoch 39/50\n",
      "85311/85311 [==============================] - 1s 13us/sample - loss: 1.2405 - accuracy: 0.9932 - val_loss: 1.3690 - val_accuracy: 0.9925\n",
      "Epoch 40/50\n",
      "85311/85311 [==============================] - 1s 12us/sample - loss: 1.2494 - accuracy: 0.9935 - val_loss: 1.4330 - val_accuracy: 0.9910\n",
      "Epoch 41/50\n",
      "85311/85311 [==============================] - 1s 13us/sample - loss: 1.2435 - accuracy: 0.9938 - val_loss: 1.4371 - val_accuracy: 0.9924\n",
      "Epoch 42/50\n",
      "85311/85311 [==============================] - 1s 14us/sample - loss: 1.2614 - accuracy: 0.9935 - val_loss: 1.4413 - val_accuracy: 0.9924\n",
      "Epoch 43/50\n",
      "85311/85311 [==============================] - 1s 15us/sample - loss: 1.2406 - accuracy: 0.9940 - val_loss: 1.3586 - val_accuracy: 0.9918\n",
      "Epoch 44/50\n",
      "85311/85311 [==============================] - 1s 14us/sample - loss: 1.2719 - accuracy: 0.9938 - val_loss: 1.4699 - val_accuracy: 0.9911\n",
      "Epoch 45/50\n",
      "85311/85311 [==============================] - 1s 12us/sample - loss: 1.2817 - accuracy: 0.9940 - val_loss: 1.4498 - val_accuracy: 0.9919\n",
      "Epoch 46/50\n",
      "85311/85311 [==============================] - 1s 11us/sample - loss: 1.2531 - accuracy: 0.9945 - val_loss: 1.3603 - val_accuracy: 0.9919\n",
      "Epoch 47/50\n"
     ]
    },
    {
     "name": "stdout",
     "output_type": "stream",
     "text": [
      "85311/85311 [==============================] - 1s 12us/sample - loss: 1.2796 - accuracy: 0.9943 - val_loss: 1.3044 - val_accuracy: 0.9910\n",
      "Epoch 48/50\n",
      "85311/85311 [==============================] - 1s 13us/sample - loss: 1.2717 - accuracy: 0.9946 - val_loss: 1.4012 - val_accuracy: 0.9918\n",
      "Epoch 49/50\n",
      "85311/85311 [==============================] - 1s 13us/sample - loss: 1.2903 - accuracy: 0.9945 - val_loss: 1.3745 - val_accuracy: 0.9920\n",
      "Epoch 50/50\n",
      "85311/85311 [==============================] - 1s 12us/sample - loss: 1.3057 - accuracy: 0.9946 - val_loss: 1.4577 - val_accuracy: 0.9935\n"
     ]
    }
   ],
   "source": [
    "def build_model_1(reg=0.01, embedding_size=10, optimizer='adam', metric='accuracy'):\n",
    "    user=tf.keras.layers.Input(shape=(1,))\n",
    "    course=tf.keras.layers.Input(shape=(1,))\n",
    "    user_emb=tf.keras.layers.Embedding(num_users+1, embedding_size, name='user_embedding', \n",
    "                                      embeddings_regularizer=tf.keras.regularizers.l2(reg))(user) #(N,1,k)\n",
    "    user_emb=tf.keras.layers.Flatten()(user_emb)\n",
    "    course_emb=tf.keras.layers.Embedding(num_courses+1, embedding_size, name='course_embedding',\n",
    "                                        embeddings_regularizer=tf.keras.regularizers.l2(reg))(course) #(N,1,k)\n",
    "    course_emb=tf.keras.layers.Flatten()(course_emb)\n",
    "    concat=tf.keras.layers.concatenate([user_emb, course_emb], name='concat') # (2N,1,1)\n",
    "    x=tf.keras.layers.Flatten()(concat)\n",
    "    x=tf.keras.layers.Dense(3, activation='softmax')(x)\n",
    "    model=tf.keras.Model(inputs=[user, course], outputs=x)\n",
    "    model.compile(loss='sparse_categorical_crossentropy', optimizer=tf.keras.optimizers.Adam(lr=0.01),\n",
    "                 metrics=['accuracy'])\n",
    "    return model   \n",
    "\n",
    "model_1=build_model_1()\n",
    "\n",
    "history_1=model_1.fit(x=[train.user, train.course], \n",
    "                  y=train.target, \n",
    "                  validation_data=([val.user, val.course],\n",
    "                                  val.target), \n",
    "            batch_size=128, shuffle=True,\n",
    "            epochs=50, verbose=1,\n",
    "            callbacks=[cp_callback, tensorboard_callback, train_stop_callback])"
   ]
  },
  {
   "cell_type": "code",
   "execution_count": 318,
   "metadata": {},
   "outputs": [
    {
     "data": {
      "image/png": "[encoded data removed]",
      "text/plain": [
       "<Figure size 432x288 with 1 Axes>"
      ]
     },
     "metadata": {
      "needs_background": "light"
     },
     "output_type": "display_data"
    }
   ],
   "source": [
    "plot_metric(history_1)"
   ]
  },
  {
   "cell_type": "code",
   "execution_count": 319,
   "metadata": {},
   "outputs": [
    {
     "data": {
      "image/png": "[encoded data removed]",
      "text/plain": [
       "<Figure size 432x288 with 1 Axes>"
      ]
     },
     "metadata": {
      "needs_background": "light"
     },
     "output_type": "display_data"
    }
   ],
   "source": [
    "plot_metric(history, attr='loss')"
   ]
  },
  {
   "cell_type": "code",
   "execution_count": 320,
   "metadata": {},
   "outputs": [
    {
     "name": "stdout",
     "output_type": "stream",
     "text": [
      "10533/10533 [==============================] - 0s 30us/sample - loss: 1.3787 - accuracy: 0.9932\n"
     ]
    }
   ],
   "source": [
    "results_1=model_1.evaluate([test.user,test.course], test.target)"
   ]
  },
  {
   "cell_type": "markdown",
   "metadata": {},
   "source": [
    "The model does not look very confident(looking at the loss) on it's predictions as the probabilities of all the classes is pretty close. Let's see if we can improve by adding a few hidden layer. Also, let's analyse the performance more closely"
   ]
  },
  {
   "cell_type": "code",
   "execution_count": 321,
   "metadata": {},
   "outputs": [],
   "source": [
    "test_predictions_1=model_1.predict([test.user,test.course])"
   ]
  },
  {
   "cell_type": "code",
   "execution_count": 322,
   "metadata": {},
   "outputs": [
    {
     "data": {
      "text/plain": [
       "array([[1.6233985e-03, 9.9529332e-01, 3.0833040e-03],\n",
       "       [9.7654939e-01, 1.4784191e-02, 8.6664176e-03],\n",
       "       [0.0000000e+00, 1.0000000e+00, 0.0000000e+00],\n",
       "       ...,\n",
       "       [9.9964690e-01, 2.6313282e-04, 9.0003268e-05],\n",
       "       [1.2548994e-04, 9.9971861e-01, 1.5592175e-04],\n",
       "       [2.2880241e-10, 9.9999976e-01, 2.1900536e-07]], dtype=float32)"
      ]
     },
     "execution_count": 322,
     "metadata": {},
     "output_type": "execute_result"
    }
   ],
   "source": [
    "test_predictions_1"
   ]
  },
  {
   "cell_type": "code",
   "execution_count": 323,
   "metadata": {},
   "outputs": [],
   "source": [
    "test_predictions_1=[np.argmax(prediction) for prediction in test_predictions_1]"
   ]
  },
  {
   "cell_type": "code",
   "execution_count": 301,
   "metadata": {},
   "outputs": [
    {
     "name": "stderr",
     "output_type": "stream",
     "text": [
      "/Users/skumar/projects/personal/pluralsight-recommender/venv/lib/python3.7/site-packages/ipykernel_launcher.py:1: SettingWithCopyWarning: \n",
      "A value is trying to be set on a copy of a slice from a DataFrame.\n",
      "Try using .loc[row_indexer,col_indexer] = value instead\n",
      "\n",
      "See the caveats in the documentation: https://pandas.pydata.org/pandas-docs/stable/user_guide/indexing.html#returning-a-view-versus-a-copy\n",
      "  \"\"\"Entry point for launching an IPython kernel.\n"
     ]
    }
   ],
   "source": [
    "test[\"predicted_1\"]=test_predictions_1"
   ]
  },
  {
   "cell_type": "code",
   "execution_count": 302,
   "metadata": {},
   "outputs": [
    {
     "data": {
      "text/plain": [
       "0.9936390392101015"
      ]
     },
     "execution_count": 302,
     "metadata": {},
     "output_type": "execute_result"
    }
   ],
   "source": [
    "test[test.target==test.predicted_1].shape[0]/test.shape[0]"
   ]
  },
  {
   "cell_type": "code",
   "execution_count": 63,
   "metadata": {},
   "outputs": [
    {
     "data": {
      "text/html": [
       "<div>\n",
       "<style scoped>\n",
       "    .dataframe tbody tr th:only-of-type {\n",
       "        vertical-align: middle;\n",
       "    }\n",
       "\n",
       "    .dataframe tbody tr th {\n",
       "        vertical-align: top;\n",
       "    }\n",
       "\n",
       "    .dataframe thead th {\n",
       "        text-align: right;\n",
       "    }\n",
       "</style>\n",
       "<table border=\"1\" class=\"dataframe\">\n",
       "  <thead>\n",
       "    <tr style=\"text-align: right;\">\n",
       "      <th></th>\n",
       "      <th>user</th>\n",
       "      <th>course</th>\n",
       "      <th>target</th>\n",
       "    </tr>\n",
       "  </thead>\n",
       "  <tbody>\n",
       "    <tr>\n",
       "      <th>88178</th>\n",
       "      <td>7261</td>\n",
       "      <td>1851</td>\n",
       "      <td>1</td>\n",
       "    </tr>\n",
       "    <tr>\n",
       "      <th>10696</th>\n",
       "      <td>900</td>\n",
       "      <td>2903</td>\n",
       "      <td>0</td>\n",
       "    </tr>\n",
       "    <tr>\n",
       "      <th>32648</th>\n",
       "      <td>2765</td>\n",
       "      <td>97</td>\n",
       "      <td>1</td>\n",
       "    </tr>\n",
       "    <tr>\n",
       "      <th>14263</th>\n",
       "      <td>1205</td>\n",
       "      <td>2165</td>\n",
       "      <td>0</td>\n",
       "    </tr>\n",
       "    <tr>\n",
       "      <th>1122</th>\n",
       "      <td>84</td>\n",
       "      <td>2811</td>\n",
       "      <td>1</td>\n",
       "    </tr>\n",
       "  </tbody>\n",
       "</table>\n",
       "</div>"
      ],
      "text/plain": [
       "       user  course  target\n",
       "88178  7261    1851       1\n",
       "10696   900    2903       0\n",
       "32648  2765      97       1\n",
       "14263  1205    2165       0\n",
       "1122     84    2811       1"
      ]
     },
     "execution_count": 63,
     "metadata": {},
     "output_type": "execute_result"
    }
   ],
   "source": [
    "test.head()"
   ]
  },
  {
   "cell_type": "markdown",
   "metadata": {},
   "source": [
    "## Iteration 2"
   ]
  },
  {
   "cell_type": "code",
   "execution_count": 65,
   "metadata": {},
   "outputs": [
    {
     "name": "stdout",
     "output_type": "stream",
     "text": [
      "Train on 85311 samples, validate on 9480 samples\n",
      "Epoch 1/50\n",
      "83200/85311 [============================>.] - ETA: 0s - loss: 0.8619 - accuracy: 0.7874INFO:tensorflow:Assets written to: /Users/skumar/projects/personal/pluralsight-recommender/generator/models/trained_dnn/cp.ckpt/assets\n",
      "85311/85311 [==============================] - 2s 26us/sample - loss: 0.8566 - accuracy: 0.7901 - val_loss: 0.6222 - val_accuracy: 0.9114\n",
      "Epoch 2/50\n",
      "82688/85311 [============================>.] - ETA: 0s - loss: 0.5604 - accuracy: 0.9149INFO:tensorflow:Assets written to: /Users/skumar/projects/personal/pluralsight-recommender/generator/models/trained_dnn/cp.ckpt/assets\n",
      "85311/85311 [==============================] - 2s 19us/sample - loss: 0.5593 - accuracy: 0.9149 - val_loss: 0.5174 - val_accuracy: 0.9181\n",
      "Epoch 3/50\n",
      "81536/85311 [===========================>..] - ETA: 0s - loss: 0.4848 - accuracy: 0.9205INFO:tensorflow:Assets written to: /Users/skumar/projects/personal/pluralsight-recommender/generator/models/trained_dnn/cp.ckpt/assets\n",
      "85311/85311 [==============================] - 2s 18us/sample - loss: 0.4836 - accuracy: 0.9206 - val_loss: 0.4605 - val_accuracy: 0.9209\n",
      "Epoch 4/50\n",
      "83072/85311 [============================>.] - ETA: 0s - loss: 0.4381 - accuracy: 0.9233INFO:tensorflow:Assets written to: /Users/skumar/projects/personal/pluralsight-recommender/generator/models/trained_dnn/cp.ckpt/assets\n",
      "85311/85311 [==============================] - 2s 18us/sample - loss: 0.4376 - accuracy: 0.9234 - val_loss: 0.4209 - val_accuracy: 0.9252\n",
      "Epoch 5/50\n",
      "84224/85311 [============================>.] - ETA: 0s - loss: 0.4029 - accuracy: 0.9256INFO:tensorflow:Assets written to: /Users/skumar/projects/personal/pluralsight-recommender/generator/models/trained_dnn/cp.ckpt/assets\n",
      "85311/85311 [==============================] - 2s 18us/sample - loss: 0.4029 - accuracy: 0.9255 - val_loss: 0.3920 - val_accuracy: 0.9246\n",
      "Epoch 6/50\n",
      "82944/85311 [============================>.] - ETA: 0s - loss: 0.3752 - accuracy: 0.9268INFO:tensorflow:Assets written to: /Users/skumar/projects/personal/pluralsight-recommender/generator/models/trained_dnn/cp.ckpt/assets\n",
      "85311/85311 [==============================] - 2s 18us/sample - loss: 0.3746 - accuracy: 0.9270 - val_loss: 0.3640 - val_accuracy: 0.9263\n",
      "Epoch 7/50\n",
      "82432/85311 [===========================>..] - ETA: 0s - loss: 0.3505 - accuracy: 0.9280INFO:tensorflow:Assets written to: /Users/skumar/projects/personal/pluralsight-recommender/generator/models/trained_dnn/cp.ckpt/assets\n",
      "85311/85311 [==============================] - 2s 19us/sample - loss: 0.3498 - accuracy: 0.9281 - val_loss: 0.3429 - val_accuracy: 0.9283\n",
      "Epoch 8/50\n",
      "81024/85311 [===========================>..] - ETA: 0s - loss: 0.3301 - accuracy: 0.9286 ETA: 0s - loss: 0.3INFO:tensorflow:Assets written to: /Users/skumar/projects/personal/pluralsight-recommender/generator/models/trained_dnn/cp.ckpt/assets\n",
      "85311/85311 [==============================] - 2s 19us/sample - loss: 0.3293 - accuracy: 0.9290 - val_loss: 0.3238 - val_accuracy: 0.9286\n",
      "Epoch 9/50\n",
      "84096/85311 [============================>.] - ETA: 0s - loss: 0.3120 - accuracy: 0.9299INFO:tensorflow:Assets written to: /Users/skumar/projects/personal/pluralsight-recommender/generator/models/trained_dnn/cp.ckpt/assets\n",
      "85311/85311 [==============================] - 2s 19us/sample - loss: 0.3121 - accuracy: 0.9298 - val_loss: 0.3085 - val_accuracy: 0.9286\n",
      "Epoch 10/50\n",
      "81024/85311 [===========================>..] - ETA: 0s - loss: 0.2992 - accuracy: 0.9299INFO:tensorflow:Assets written to: /Users/skumar/projects/personal/pluralsight-recommender/generator/models/trained_dnn/cp.ckpt/assets\n",
      "85311/85311 [==============================] - 2s 20us/sample - loss: 0.2990 - accuracy: 0.9299 - val_loss: 0.2966 - val_accuracy: 0.9286\n",
      "Epoch 11/50\n",
      "85120/85311 [============================>.] - ETA: 0s - loss: 0.2869 - accuracy: 0.9304INFO:tensorflow:Assets written to: /Users/skumar/projects/personal/pluralsight-recommender/generator/models/trained_dnn/cp.ckpt/assets\n",
      "85311/85311 [==============================] - 2s 20us/sample - loss: 0.2869 - accuracy: 0.9304 - val_loss: 0.2856 - val_accuracy: 0.9286\n",
      "Epoch 12/50\n",
      "81152/85311 [===========================>..] - ETA: 0s - loss: 0.2764 - accuracy: 0.9345INFO:tensorflow:Assets written to: /Users/skumar/projects/personal/pluralsight-recommender/generator/models/trained_dnn/cp.ckpt/assets\n",
      "85311/85311 [==============================] - 2s 21us/sample - loss: 0.2764 - accuracy: 0.9351 - val_loss: 0.2762 - val_accuracy: 0.9416\n",
      "Epoch 13/50\n",
      "82944/85311 [============================>.] - ETA: 0s - loss: 0.2663 - accuracy: 0.9480 ETA: 1s - losINFO:tensorflow:Assets written to: /Users/skumar/projects/personal/pluralsight-recommender/generator/models/trained_dnn/cp.ckpt/assets\n",
      "85311/85311 [==============================] - 2s 19us/sample - loss: 0.2662 - accuracy: 0.9482 - val_loss: 0.2672 - val_accuracy: 0.9589\n",
      "Epoch 14/50\n",
      "82048/85311 [===========================>..] - ETA: 0s - loss: 0.2572 - accuracy: 0.9638INFO:tensorflow:Assets written to: /Users/skumar/projects/personal/pluralsight-recommender/generator/models/trained_dnn/cp.ckpt/assets\n",
      "85311/85311 [==============================] - 2s 21us/sample - loss: 0.2573 - accuracy: 0.9634 - val_loss: 0.2592 - val_accuracy: 0.9533\n",
      "Epoch 15/50\n",
      "84096/85311 [============================>.] - ETA: 0s - loss: 0.2487 - accuracy: 0.9696INFO:tensorflow:Assets written to: /Users/skumar/projects/personal/pluralsight-recommender/generator/models/trained_dnn/cp.ckpt/assets\n",
      "85311/85311 [==============================] - 2s 23us/sample - loss: 0.2487 - accuracy: 0.9696 - val_loss: 0.2501 - val_accuracy: 0.9755\n",
      "Epoch 16/50\n",
      "82048/85311 [===========================>..] - ETA: 0s - loss: 0.2408 - accuracy: 0.9765INFO:tensorflow:Assets written to: /Users/skumar/projects/personal/pluralsight-recommender/generator/models/trained_dnn/cp.ckpt/assets\n",
      "85311/85311 [==============================] - 2s 22us/sample - loss: 0.2408 - accuracy: 0.9764 - val_loss: 0.2417 - val_accuracy: 0.9769\n",
      "Epoch 17/50\n",
      "84096/85311 [============================>.] - ETA: 0s - loss: 0.2318 - accuracy: 0.9836INFO:tensorflow:Assets written to: /Users/skumar/projects/personal/pluralsight-recommender/generator/models/trained_dnn/cp.ckpt/assets\n",
      "85311/85311 [==============================] - 2s 24us/sample - loss: 0.2320 - accuracy: 0.9835 - val_loss: 0.2350 - val_accuracy: 0.9761\n",
      "Epoch 18/50\n",
      "84608/85311 [============================>.] - ETA: 0s - loss: 0.2244 - accuracy: 0.9872INFO:tensorflow:Assets written to: /Users/skumar/projects/personal/pluralsight-recommender/generator/models/trained_dnn/cp.ckpt/assets\n",
      "85311/85311 [==============================] - 2s 19us/sample - loss: 0.2244 - accuracy: 0.9872 - val_loss: 0.2287 - val_accuracy: 0.9807\n",
      "Epoch 19/50\n",
      "85120/85311 [============================>.] - ETA: 0s - loss: 0.2183 - accuracy: 0.9902INFO:tensorflow:Assets written to: /Users/skumar/projects/personal/pluralsight-recommender/generator/models/trained_dnn/cp.ckpt/assets\n",
      "85311/85311 [==============================] - 2s 18us/sample - loss: 0.2184 - accuracy: 0.9902 - val_loss: 0.2212 - val_accuracy: 0.9865\n",
      "Epoch 20/50\n",
      "84480/85311 [============================>.] - ETA: 0s - loss: 0.2126 - accuracy: 0.9915INFO:tensorflow:Assets written to: /Users/skumar/projects/personal/pluralsight-recommender/generator/models/trained_dnn/cp.ckpt/assets\n",
      "85311/85311 [==============================] - 2s 21us/sample - loss: 0.2127 - accuracy: 0.9915 - val_loss: 0.2182 - val_accuracy: 0.9870\n",
      "Epoch 21/50\n",
      "82560/85311 [============================>.] - ETA: 0s - loss: 0.2083 - accuracy: 0.9918INFO:tensorflow:Assets written to: /Users/skumar/projects/personal/pluralsight-recommender/generator/models/trained_dnn/cp.ckpt/assets\n",
      "85311/85311 [==============================] - 2s 22us/sample - loss: 0.2085 - accuracy: 0.9916 - val_loss: 0.2136 - val_accuracy: 0.9843\n",
      "Epoch 22/50\n",
      "82688/85311 [============================>.] - ETA: 0s - loss: 0.2025 - accuracy: 0.9933INFO:tensorflow:Assets written to: /Users/skumar/projects/personal/pluralsight-recommender/generator/models/trained_dnn/cp.ckpt/assets\n",
      "85311/85311 [==============================] - 2s 23us/sample - loss: 0.2028 - accuracy: 0.9932 - val_loss: 0.2086 - val_accuracy: 0.9850\n"
     ]
    },
    {
     "name": "stdout",
     "output_type": "stream",
     "text": [
      "Epoch 23/50\n",
      "81408/85311 [===========================>..] - ETA: 0s - loss: 0.1992 - accuracy: 0.9936INFO:tensorflow:Assets written to: /Users/skumar/projects/personal/pluralsight-recommender/generator/models/trained_dnn/cp.ckpt/assets\n",
      "85311/85311 [==============================] - 2s 18us/sample - loss: 0.1994 - accuracy: 0.9934 - val_loss: 0.2063 - val_accuracy: 0.9851\n",
      "Epoch 24/50\n",
      "82816/85311 [============================>.] - ETA: 0s - loss: 0.1947 - accuracy: 0.9945INFO:tensorflow:Assets written to: /Users/skumar/projects/personal/pluralsight-recommender/generator/models/trained_dnn/cp.ckpt/assets\n",
      "85311/85311 [==============================] - 2s 21us/sample - loss: 0.1947 - accuracy: 0.9944 - val_loss: 0.2020 - val_accuracy: 0.9858\n",
      "Epoch 25/50\n",
      "81792/85311 [===========================>..] - ETA: 0s - loss: 0.1913 - accuracy: 0.9947 ETA: 0s - loss: 0.1909 - accuracy: INFO:tensorflow:Assets written to: /Users/skumar/projects/personal/pluralsight-recommender/generator/models/trained_dnn/cp.ckpt/assets\n",
      "85311/85311 [==============================] - 2s 18us/sample - loss: 0.1913 - accuracy: 0.9946 - val_loss: 0.1983 - val_accuracy: 0.9857\n",
      "Epoch 26/50\n",
      "82816/85311 [============================>.] - ETA: 0s - loss: 0.1877 - accuracy: 0.9947INFO:tensorflow:Assets written to: /Users/skumar/projects/personal/pluralsight-recommender/generator/models/trained_dnn/cp.ckpt/assets\n",
      "85311/85311 [==============================] - 2s 19us/sample - loss: 0.1877 - accuracy: 0.9948 - val_loss: 0.1972 - val_accuracy: 0.9869\n",
      "Epoch 27/50\n",
      "81664/85311 [===========================>..] - ETA: 0s - loss: 0.1843 - accuracy: 0.9950INFO:tensorflow:Assets written to: /Users/skumar/projects/personal/pluralsight-recommender/generator/models/trained_dnn/cp.ckpt/assets\n",
      "85311/85311 [==============================] - 2s 18us/sample - loss: 0.1843 - accuracy: 0.9949 - val_loss: 0.1928 - val_accuracy: 0.9859\n",
      "Epoch 28/50\n",
      "83456/85311 [============================>.] - ETA: 0s - loss: 0.1820 - accuracy: 0.9950INFO:tensorflow:Assets written to: /Users/skumar/projects/personal/pluralsight-recommender/generator/models/trained_dnn/cp.ckpt/assets\n",
      "85311/85311 [==============================] - 2s 18us/sample - loss: 0.1820 - accuracy: 0.9949 - val_loss: 0.1901 - val_accuracy: 0.9874\n",
      "Epoch 29/50\n",
      "83968/85311 [============================>.] - ETA: 0s - loss: 0.1773 - accuracy: 0.9955INFO:tensorflow:Assets written to: /Users/skumar/projects/personal/pluralsight-recommender/generator/models/trained_dnn/cp.ckpt/assets\n",
      "85311/85311 [==============================] - 2s 19us/sample - loss: 0.1775 - accuracy: 0.9955 - val_loss: 0.1865 - val_accuracy: 0.9871\n",
      "Epoch 30/50\n",
      "85311/85311 [==============================] - 1s 12us/sample - loss: 0.1755 - accuracy: 0.9950 - val_loss: 0.1867 - val_accuracy: 0.9878\n",
      "Epoch 31/50\n",
      "83584/85311 [============================>.] - ETA: 0s - loss: 0.1724 - accuracy: 0.9958INFO:tensorflow:Assets written to: /Users/skumar/projects/personal/pluralsight-recommender/generator/models/trained_dnn/cp.ckpt/assets\n",
      "85311/85311 [==============================] - 1s 18us/sample - loss: 0.1724 - accuracy: 0.9957 - val_loss: 0.1821 - val_accuracy: 0.9874\n",
      "Epoch 32/50\n",
      "82816/85311 [============================>.] - ETA: 0s - loss: 0.1711 - accuracy: 0.9954INFO:tensorflow:Assets written to: /Users/skumar/projects/personal/pluralsight-recommender/generator/models/trained_dnn/cp.ckpt/assets\n",
      "85311/85311 [==============================] - 2s 18us/sample - loss: 0.1714 - accuracy: 0.9954 - val_loss: 0.1818 - val_accuracy: 0.9881\n",
      "Epoch 33/50\n",
      "82048/85311 [===========================>..] - ETA: 0s - loss: 0.1676 - accuracy: 0.9958INFO:tensorflow:Assets written to: /Users/skumar/projects/personal/pluralsight-recommender/generator/models/trained_dnn/cp.ckpt/assets\n",
      "85311/85311 [==============================] - 2s 18us/sample - loss: 0.1676 - accuracy: 0.9958 - val_loss: 0.1780 - val_accuracy: 0.9876\n",
      "Epoch 34/50\n",
      "85311/85311 [==============================] - 1s 13us/sample - loss: 0.1657 - accuracy: 0.9959 - val_loss: 0.1799 - val_accuracy: 0.9858\n",
      "Epoch 35/50\n",
      "83200/85311 [============================>.] - ETA: 0s - loss: 0.1646 - accuracy: 0.9956INFO:tensorflow:Assets written to: /Users/skumar/projects/personal/pluralsight-recommender/generator/models/trained_dnn/cp.ckpt/assets\n",
      "85311/85311 [==============================] - 2s 19us/sample - loss: 0.1646 - accuracy: 0.9956 - val_loss: 0.1744 - val_accuracy: 0.9871\n",
      "Epoch 36/50\n",
      "84352/85311 [============================>.] - ETA: 0s - loss: 0.1612 - accuracy: 0.9960INFO:tensorflow:Assets written to: /Users/skumar/projects/personal/pluralsight-recommender/generator/models/trained_dnn/cp.ckpt/assets\n",
      "85311/85311 [==============================] - 2s 18us/sample - loss: 0.1613 - accuracy: 0.9960 - val_loss: 0.1731 - val_accuracy: 0.9882\n",
      "Epoch 37/50\n",
      "81664/85311 [===========================>..] - ETA: 0s - loss: 0.1592 - accuracy: 0.9959INFO:tensorflow:Assets written to: /Users/skumar/projects/personal/pluralsight-recommender/generator/models/trained_dnn/cp.ckpt/assets\n",
      "85311/85311 [==============================] - 2s 18us/sample - loss: 0.1595 - accuracy: 0.9958 - val_loss: 0.1711 - val_accuracy: 0.9883\n",
      "Epoch 38/50\n",
      "81408/85311 [===========================>..] - ETA: 0s - loss: 0.1577 - accuracy: 0.9962INFO:tensorflow:Assets written to: /Users/skumar/projects/personal/pluralsight-recommender/generator/models/trained_dnn/cp.ckpt/assets\n",
      "85311/85311 [==============================] - 2s 19us/sample - loss: 0.1577 - accuracy: 0.9962 - val_loss: 0.1676 - val_accuracy: 0.9892\n",
      "Epoch 39/50\n",
      "83840/85311 [============================>.] - ETA: 0s - loss: 0.1559 - accuracy: 0.9963 ETA: 0s - loss: 0.1552 - ac - ETA: 0s - loss: 0.1560 INFO:tensorflow:Assets written to: /Users/skumar/projects/personal/pluralsight-recommender/generator/models/trained_dnn/cp.ckpt/assets\n",
      "85311/85311 [==============================] - 2s 21us/sample - loss: 0.1559 - accuracy: 0.9962 - val_loss: 0.1676 - val_accuracy: 0.9880\n",
      "Epoch 40/50\n",
      "85311/85311 [==============================] - 1s 13us/sample - loss: 0.1557 - accuracy: 0.9958 - val_loss: 0.1682 - val_accuracy: 0.9886\n",
      "Epoch 41/50\n",
      "83072/85311 [============================>.] - ETA: 0s - loss: 0.1518 - accuracy: 0.9963INFO:tensorflow:Assets written to: /Users/skumar/projects/personal/pluralsight-recommender/generator/models/trained_dnn/cp.ckpt/assets\n",
      "85311/85311 [==============================] - 2s 19us/sample - loss: 0.1519 - accuracy: 0.9962 - val_loss: 0.1675 - val_accuracy: 0.9870\n",
      "Epoch 42/50\n",
      "85120/85311 [============================>.] - ETA: 0s - loss: 0.1520 - accuracy: 0.9959INFO:tensorflow:Assets written to: /Users/skumar/projects/personal/pluralsight-recommender/generator/models/trained_dnn/cp.ckpt/assets\n",
      "85311/85311 [==============================] - 2s 19us/sample - loss: 0.1520 - accuracy: 0.9959 - val_loss: 0.1658 - val_accuracy: 0.9876\n",
      "Epoch 43/50\n",
      "84736/85311 [============================>.] - ETA: 0s - loss: 0.1497 - accuracy: 0.9958INFO:tensorflow:Assets written to: /Users/skumar/projects/personal/pluralsight-recommender/generator/models/trained_dnn/cp.ckpt/assets\n",
      "85311/85311 [==============================] - 2s 22us/sample - loss: 0.1497 - accuracy: 0.9959 - val_loss: 0.1645 - val_accuracy: 0.9874\n",
      "Epoch 44/50\n",
      "81408/85311 [===========================>..] - ETA: 0s - loss: 0.1484 - accuracy: 0.9961INFO:tensorflow:Assets written to: /Users/skumar/projects/personal/pluralsight-recommender/generator/models/trained_dnn/cp.ckpt/assets\n",
      "85311/85311 [==============================] - 2s 22us/sample - loss: 0.1484 - accuracy: 0.9960 - val_loss: 0.1599 - val_accuracy: 0.9890\n",
      "Epoch 45/50\n",
      "85311/85311 [==============================] - 1s 14us/sample - loss: 0.1478 - accuracy: 0.9957 - val_loss: 0.1618 - val_accuracy: 0.9869\n",
      "Epoch 46/50\n",
      "83456/85311 [============================>.] - ETA: 0s - loss: 0.1440 - accuracy: 0.9962 ETA: 0s - loss: 0.1427 - accuracy - ETA: 0s - loss: 0.1431 - INFO:tensorflow:Assets written to: /Users/skumar/projects/personal/pluralsight-recommender/generator/models/trained_dnn/cp.ckpt/assets\n",
      "85311/85311 [==============================] - 2s 19us/sample - loss: 0.1441 - accuracy: 0.9961 - val_loss: 0.1553 - val_accuracy: 0.9890\n"
     ]
    },
    {
     "name": "stdout",
     "output_type": "stream",
     "text": [
      "Epoch 47/50\n",
      "85311/85311 [==============================] - 1s 12us/sample - loss: 0.1443 - accuracy: 0.9960 - val_loss: 0.1574 - val_accuracy: 0.9883\n",
      "Epoch 48/50\n",
      "85311/85311 [==============================] - 1s 13us/sample - loss: 0.1440 - accuracy: 0.9961 - val_loss: 0.1562 - val_accuracy: 0.9881\n",
      "Epoch 49/50\n",
      "84352/85311 [============================>.] - ETA: 0s - loss: 0.1415 - accuracy: 0.9959INFO:tensorflow:Assets written to: /Users/skumar/projects/personal/pluralsight-recommender/generator/models/trained_dnn/cp.ckpt/assets\n",
      "85311/85311 [==============================] - 2s 19us/sample - loss: 0.1415 - accuracy: 0.9959 - val_loss: 0.1540 - val_accuracy: 0.9882\n",
      "Epoch 50/50\n",
      "85311/85311 [==============================] - 1s 14us/sample - loss: 0.1394 - accuracy: 0.9965 - val_loss: 0.1549 - val_accuracy: 0.9890\n"
     ]
    }
   ],
   "source": [
    "def build_model_2(reg=0.01, embedding_size=10, optimizer='adam', metric='accuracy'):\n",
    "    user=tf.keras.layers.Input(shape=(1,))\n",
    "    course=tf.keras.layers.Input(shape=(1,))\n",
    "    user_emb=tf.keras.layers.Embedding(num_users+1, embedding_size, name='user_embedding', \n",
    "                                      embeddings_regularizer=tf.keras.regularizers.l2(reg))(user) #(N,1,k)\n",
    "    user_emb=tf.keras.layers.Flatten()(user_emb)\n",
    "    course_emb=tf.keras.layers.Embedding(num_courses+1, embedding_size, name='course_embedding',\n",
    "                                        embeddings_regularizer=tf.keras.regularizers.l2(reg))(course) #(N,1,k)\n",
    "    course_emb=tf.keras.layers.Flatten()(course_emb)\n",
    "    concat=tf.keras.layers.concatenate([user_emb, course_emb], name='concat') # (2N,1,1)\n",
    "    x=tf.keras.layers.Flatten()(concat)\n",
    "    x=tf.keras.layers.Dense(64, activation='relu', kernel_regularizer=tf.keras.regularizers.l2(reg))(x)\n",
    "    x=tf.keras.layers.Dense(3, activation='softmax')(x)\n",
    "    model=tf.keras.Model(inputs=[user, course], outputs=x)\n",
    "    model.compile(loss='sparse_categorical_crossentropy', optimizer=optimizer,\n",
    "                 metrics=[metric])\n",
    "    return model   \n",
    "\n",
    "model_2=build_model_2()\n",
    "\n",
    "history_2=model_2.fit(x=[train.user, train.course], \n",
    "                  y=train.target, \n",
    "                  validation_data=([val.user, val.course],\n",
    "                                  val.target), \n",
    "            batch_size=128, shuffle=True,\n",
    "            epochs=50, verbose=1,\n",
    "            callbacks=[cp_callback, tensorboard_callback, train_stop_callback])"
   ]
  },
  {
   "cell_type": "code",
   "execution_count": 68,
   "metadata": {},
   "outputs": [
    {
     "data": {
      "image/png": "[encoded data removed]",
      "text/plain": [
       "<Figure size 432x288 with 1 Axes>"
      ]
     },
     "metadata": {
      "needs_background": "light"
     },
     "output_type": "display_data"
    }
   ],
   "source": [
    "plot_metric(history_2)"
   ]
  },
  {
   "cell_type": "code",
   "execution_count": 69,
   "metadata": {},
   "outputs": [
    {
     "data": {
      "image/png": "[encoded data removed]",
      "text/plain": [
       "<Figure size 432x288 with 1 Axes>"
      ]
     },
     "metadata": {
      "needs_background": "light"
     },
     "output_type": "display_data"
    }
   ],
   "source": [
    "plot_metric(history_2, attr='loss')"
   ]
  },
  {
   "cell_type": "code",
   "execution_count": 70,
   "metadata": {},
   "outputs": [
    {
     "name": "stdout",
     "output_type": "stream",
     "text": [
      "10533/10533 [==============================] - 0s 23us/sample - loss: 0.1542 - accuracy: 0.9875\n"
     ]
    }
   ],
   "source": [
    "results_2=model_2.evaluate([test.user,test.course], test.target)"
   ]
  },
  {
   "cell_type": "markdown",
   "metadata": {},
   "source": [
    "So, loss reduced from 1.6080 to 0.1582 but the accuracy on unseen data decreased a little but it is not that bad. I will consider we are moving in the right direction."
   ]
  },
  {
   "cell_type": "code",
   "execution_count": 71,
   "metadata": {},
   "outputs": [],
   "source": [
    "test_predictions_2=model_2.predict([test.user,test.course])"
   ]
  },
  {
   "cell_type": "code",
   "execution_count": 72,
   "metadata": {},
   "outputs": [
    {
     "data": {
      "text/plain": [
       "array([[2.2557590e-06, 9.9329126e-01, 6.7065223e-03],\n",
       "       [9.9065596e-01, 1.4112389e-06, 9.3425876e-03],\n",
       "       [1.6418961e-05, 9.8121095e-01, 1.8772639e-02],\n",
       "       ...,\n",
       "       [9.6658051e-01, 2.0769399e-05, 3.3398826e-02],\n",
       "       [2.9753335e-07, 9.9766147e-01, 2.3381240e-03],\n",
       "       [7.8433504e-06, 9.8718125e-01, 1.2810833e-02]], dtype=float32)"
      ]
     },
     "execution_count": 72,
     "metadata": {},
     "output_type": "execute_result"
    }
   ],
   "source": [
    "test_predictions_2"
   ]
  },
  {
   "cell_type": "markdown",
   "metadata": {},
   "source": [
    "One way to speed up the model training will be to add Batch Normalization. Let's see how it works"
   ]
  },
  {
   "cell_type": "markdown",
   "metadata": {},
   "source": [
    "# Iteration 3"
   ]
  },
  {
   "cell_type": "code",
   "execution_count": 73,
   "metadata": {},
   "outputs": [
    {
     "name": "stdout",
     "output_type": "stream",
     "text": [
      "Train on 85311 samples, validate on 9480 samples\n",
      "Epoch 1/50\n",
      "85248/85311 [============================>.] - ETA: 0s - loss: 0.3497 - accuracy: 0.9359INFO:tensorflow:Assets written to: /Users/skumar/projects/personal/pluralsight-recommender/generator/models/trained_dnn/cp.ckpt/assets\n",
      "85311/85311 [==============================] - 3s 30us/sample - loss: 0.3495 - accuracy: 0.9359 - val_loss: 0.1455 - val_accuracy: 0.9914\n",
      "Epoch 2/50\n",
      "82432/85311 [===========================>..] - ETA: 0s - loss: 0.0958 - accuracy: 0.9962INFO:tensorflow:Assets written to: /Users/skumar/projects/personal/pluralsight-recommender/generator/models/trained_dnn/cp.ckpt/assets\n",
      "85311/85311 [==============================] - 2s 22us/sample - loss: 0.0958 - accuracy: 0.9963 - val_loss: 0.1045 - val_accuracy: 0.9945\n",
      "Epoch 3/50\n",
      "84608/85311 [============================>.] - ETA: 0s - loss: 0.0891 - accuracy: 0.9963INFO:tensorflow:Assets written to: /Users/skumar/projects/personal/pluralsight-recommender/generator/models/trained_dnn/cp.ckpt/assets\n",
      "85311/85311 [==============================] - 2s 23us/sample - loss: 0.0890 - accuracy: 0.9963 - val_loss: 0.0903 - val_accuracy: 0.9937\n",
      "Epoch 4/50\n",
      "85311/85311 [==============================] - 1s 14us/sample - loss: 0.0763 - accuracy: 0.9971 - val_loss: 0.0906 - val_accuracy: 0.9927\n",
      "Epoch 5/50\n",
      "83840/85311 [============================>.] - ETA: 0s - loss: 0.0642 - accuracy: 0.9977INFO:tensorflow:Assets written to: /Users/skumar/projects/personal/pluralsight-recommender/generator/models/trained_dnn/cp.ckpt/assets\n",
      "85311/85311 [==============================] - 2s 26us/sample - loss: 0.0644 - accuracy: 0.9977 - val_loss: 0.0811 - val_accuracy: 0.9930\n",
      "Epoch 6/50\n",
      "84992/85311 [============================>.] - ETA: 0s - loss: 0.0541 - accuracy: 0.9987INFO:tensorflow:Assets written to: /Users/skumar/projects/personal/pluralsight-recommender/generator/models/trained_dnn/cp.ckpt/assets\n",
      "85311/85311 [==============================] - 2s 23us/sample - loss: 0.0541 - accuracy: 0.9987 - val_loss: 0.0539 - val_accuracy: 0.9955\n",
      "Epoch 7/50\n",
      "85311/85311 [==============================] - 1s 16us/sample - loss: 0.1272 - accuracy: 0.9883 - val_loss: 0.1567 - val_accuracy: 0.9899\n",
      "Epoch 8/50\n",
      "85311/85311 [==============================] - 1s 15us/sample - loss: 0.0774 - accuracy: 0.9981 - val_loss: 0.0574 - val_accuracy: 0.9955\n",
      "Epoch 9/50\n",
      "83456/85311 [============================>.] - ETA: 0s - loss: 0.0384 - accuracy: 0.9995INFO:tensorflow:Assets written to: /Users/skumar/projects/personal/pluralsight-recommender/generator/models/trained_dnn/cp.ckpt/assets\n",
      "\n",
      " Training will stop because expected training accuracy 0.999 is acheived\n",
      "85311/85311 [==============================] - 2s 23us/sample - loss: 0.0383 - accuracy: 0.9995 - val_loss: 0.0423 - val_accuracy: 0.9955\n"
     ]
    }
   ],
   "source": [
    "def build_model_3(reg=0.01, embedding_size=10, optimizer='adam', metric='accuracy'):\n",
    "    user=tf.keras.layers.Input(shape=(1,))\n",
    "    course=tf.keras.layers.Input(shape=(1,))\n",
    "    user_emb=tf.keras.layers.Embedding(num_users+1, embedding_size, name='user_embedding', \n",
    "                                      embeddings_regularizer=tf.keras.regularizers.l2(reg))(user) #(N,1,k)\n",
    "    user_emb=tf.keras.layers.Flatten()(user_emb)\n",
    "    course_emb=tf.keras.layers.Embedding(num_courses+1, embedding_size, name='course_embedding',\n",
    "                                        embeddings_regularizer=tf.keras.regularizers.l2(reg))(course) #(N,1,k)\n",
    "    course_emb=tf.keras.layers.Flatten()(course_emb)\n",
    "    concat=tf.keras.layers.concatenate([user_emb, course_emb], name='concat') # (2N,1,1)\n",
    "    x=tf.keras.layers.Flatten()(concat)\n",
    "    x=tf.keras.layers.Dense(64, activation='relu', kernel_regularizer=tf.keras.regularizers.l2(reg))(x)\n",
    "    x=tf.keras.layers.BatchNormalization()(x)\n",
    "    x=tf.keras.layers.Dense(3, activation='softmax')(x)\n",
    "    model=tf.keras.Model(inputs=[user, course], outputs=x)\n",
    "    model.compile(loss='sparse_categorical_crossentropy', optimizer=optimizer,\n",
    "                 metrics=[metric])\n",
    "    return model   \n",
    "\n",
    "model_3=build_model_3()\n",
    "\n",
    "history_3=model_3.fit(x=[train.user, train.course], \n",
    "                  y=train.target, \n",
    "                  validation_data=([val.user, val.course],\n",
    "                                  val.target), \n",
    "            batch_size=128, shuffle=True,\n",
    "            epochs=50, verbose=1,\n",
    "            callbacks=[cp_callback, tensorboard_callback, train_stop_callback])"
   ]
  },
  {
   "cell_type": "code",
   "execution_count": 74,
   "metadata": {},
   "outputs": [
    {
     "name": "stdout",
     "output_type": "stream",
     "text": [
      "10533/10533 [==============================] - 0s 24us/sample - loss: 0.0418 - accuracy: 0.9958\n"
     ]
    }
   ],
   "source": [
    "results_3=model_3.evaluate([test.user,test.course], test.target)"
   ]
  },
  {
   "cell_type": "markdown",
   "metadata": {},
   "source": [
    "So, loss reduced from 0.1582 to 0.0828 and accuracy on the unseen data also increased from 0.9872 to 0.9958"
   ]
  },
  {
   "cell_type": "markdown",
   "metadata": {},
   "source": [
    "Also, this worked better than expected. Accuracy improved, loss dropped and model stopped training in only 3 iterations "
   ]
  },
  {
   "cell_type": "code",
   "execution_count": 75,
   "metadata": {},
   "outputs": [],
   "source": [
    "test_predictions_3=model_3.predict([test.user,test.course])"
   ]
  },
  {
   "cell_type": "code",
   "execution_count": 76,
   "metadata": {},
   "outputs": [],
   "source": [
    "test_predictions_3=[np.argmax(prediction) for prediction in test_predictions_3]"
   ]
  },
  {
   "cell_type": "code",
   "execution_count": 77,
   "metadata": {},
   "outputs": [],
   "source": [
    "test[\"predicted_3\"]=test_predictions_3"
   ]
  },
  {
   "cell_type": "markdown",
   "metadata": {},
   "source": [
    "# Qualitative Assesment: Sanity Check for Predictions"
   ]
  },
  {
   "cell_type": "code",
   "execution_count": 84,
   "metadata": {},
   "outputs": [],
   "source": [
    "def predict_similar_users(user_handle, model, num_similar_users=NUM_SIMILAR_USERS): \n",
    "    user=user_idx_dict[user_handle]\n",
    "    user_layer=model.get_layer('user_embedding')\n",
    "    user_weights=user_layer.get_weights()[0]\n",
    "    user_lengths=np.linalg.norm(user_weights, axis=1)\n",
    "    noramlized_users=(user_weights.T/user_lengths).T\n",
    "    dists=np.dot(noramlized_users, noramlized_users[user])\n",
    "    dists=dists[~np.isnan(dists) & ~np.isinf(dists)]\n",
    "    similar_users = []\n",
    "    for user_idx, score in enumerate(dists):\n",
    "        if user_idx != user:\n",
    "            similar_users.append((user_idx, score))\n",
    "    k_neighbors = heapq.nlargest(\n",
    "        num_similar_users, similar_users, key=lambda t: t[1]\n",
    "    )\n",
    "    data = [\n",
    "    (reverse_user_dict[user[0]], user[1])\n",
    "    for user in k_neighbors\n",
    "    ]\n",
    "    return pd.DataFrame(data, columns=[\"similar_users\", \"course_level_sim_score\"])"
   ]
  },
  {
   "cell_type": "code",
   "execution_count": 85,
   "metadata": {},
   "outputs": [],
   "source": [
    "user_handle=299\n",
    "similar_users=predict_similar_users(user_handle, model_3)"
   ]
  },
  {
   "cell_type": "code",
   "execution_count": 86,
   "metadata": {},
   "outputs": [
    {
     "data": {
      "text/html": [
       "<div>\n",
       "<style scoped>\n",
       "    .dataframe tbody tr th:only-of-type {\n",
       "        vertical-align: middle;\n",
       "    }\n",
       "\n",
       "    .dataframe tbody tr th {\n",
       "        vertical-align: top;\n",
       "    }\n",
       "\n",
       "    .dataframe thead th {\n",
       "        text-align: right;\n",
       "    }\n",
       "</style>\n",
       "<table border=\"1\" class=\"dataframe\">\n",
       "  <thead>\n",
       "    <tr style=\"text-align: right;\">\n",
       "      <th></th>\n",
       "      <th>similar_users</th>\n",
       "      <th>course_level_sim_score</th>\n",
       "    </tr>\n",
       "  </thead>\n",
       "  <tbody>\n",
       "    <tr>\n",
       "      <th>0</th>\n",
       "      <td>299</td>\n",
       "      <td>1.000000</td>\n",
       "    </tr>\n",
       "    <tr>\n",
       "      <th>1</th>\n",
       "      <td>294</td>\n",
       "      <td>1.000000</td>\n",
       "    </tr>\n",
       "    <tr>\n",
       "      <th>2</th>\n",
       "      <td>1206</td>\n",
       "      <td>0.966051</td>\n",
       "    </tr>\n",
       "    <tr>\n",
       "      <th>3</th>\n",
       "      <td>9273</td>\n",
       "      <td>0.960215</td>\n",
       "    </tr>\n",
       "    <tr>\n",
       "      <th>4</th>\n",
       "      <td>2931</td>\n",
       "      <td>0.932379</td>\n",
       "    </tr>\n",
       "    <tr>\n",
       "      <th>5</th>\n",
       "      <td>5413</td>\n",
       "      <td>0.929772</td>\n",
       "    </tr>\n",
       "    <tr>\n",
       "      <th>6</th>\n",
       "      <td>1273</td>\n",
       "      <td>0.909393</td>\n",
       "    </tr>\n",
       "    <tr>\n",
       "      <th>7</th>\n",
       "      <td>5328</td>\n",
       "      <td>0.909174</td>\n",
       "    </tr>\n",
       "    <tr>\n",
       "      <th>8</th>\n",
       "      <td>7392</td>\n",
       "      <td>0.908865</td>\n",
       "    </tr>\n",
       "    <tr>\n",
       "      <th>9</th>\n",
       "      <td>9239</td>\n",
       "      <td>0.908171</td>\n",
       "    </tr>\n",
       "    <tr>\n",
       "      <th>10</th>\n",
       "      <td>2018</td>\n",
       "      <td>0.907982</td>\n",
       "    </tr>\n",
       "  </tbody>\n",
       "</table>\n",
       "</div>"
      ],
      "text/plain": [
       "    similar_users  course_level_sim_score\n",
       "0             299                1.000000\n",
       "1             294                1.000000\n",
       "2            1206                0.966051\n",
       "3            9273                0.960215\n",
       "4            2931                0.932379\n",
       "5            5413                0.929772\n",
       "6            1273                0.909393\n",
       "7            5328                0.909174\n",
       "8            7392                0.908865\n",
       "9            9239                0.908171\n",
       "10           2018                0.907982"
      ]
     },
     "execution_count": 86,
     "metadata": {},
     "output_type": "execute_result"
    }
   ],
   "source": [
    "similar_users.loc[-1] = [user_handle, 1] \n",
    "similar_users.index = similar_users.index + 1 \n",
    "similar_users = similar_users.sort_index()\n",
    "similar_users.sort_values(by=['course_level_sim_score'], ascending=False)"
   ]
  },
  {
   "cell_type": "code",
   "execution_count": 87,
   "metadata": {},
   "outputs": [
    {
     "data": {
      "text/html": [
       "<div>\n",
       "<style scoped>\n",
       "    .dataframe tbody tr th:only-of-type {\n",
       "        vertical-align: middle;\n",
       "    }\n",
       "\n",
       "    .dataframe tbody tr th {\n",
       "        vertical-align: top;\n",
       "    }\n",
       "\n",
       "    .dataframe thead th {\n",
       "        text-align: right;\n",
       "    }\n",
       "</style>\n",
       "<table border=\"1\" class=\"dataframe\">\n",
       "  <thead>\n",
       "    <tr style=\"text-align: right;\">\n",
       "      <th></th>\n",
       "      <th>user_handle</th>\n",
       "      <th>interest_tag</th>\n",
       "      <th>course_level_sim_score</th>\n",
       "    </tr>\n",
       "  </thead>\n",
       "  <tbody>\n",
       "    <tr>\n",
       "      <th>0</th>\n",
       "      <td>294</td>\n",
       "      <td>java,design-patterns,python,react.js,nodejs,ht...</td>\n",
       "      <td>1.000000</td>\n",
       "    </tr>\n",
       "    <tr>\n",
       "      <th>1</th>\n",
       "      <td>299</td>\n",
       "      <td>design-patterns,javascript-frameworks,javascri...</td>\n",
       "      <td>1.000000</td>\n",
       "    </tr>\n",
       "    <tr>\n",
       "      <th>2</th>\n",
       "      <td>1206</td>\n",
       "      <td>java,data-analysis,nodejs</td>\n",
       "      <td>0.966051</td>\n",
       "    </tr>\n",
       "    <tr>\n",
       "      <th>10</th>\n",
       "      <td>9273</td>\n",
       "      <td>maya,zbrush,3d-texturing,3d-animation,pipeline...</td>\n",
       "      <td>0.960215</td>\n",
       "    </tr>\n",
       "    <tr>\n",
       "      <th>5</th>\n",
       "      <td>2931</td>\n",
       "      <td>rapid-application-development,rapid-applicatio...</td>\n",
       "      <td>0.932379</td>\n",
       "    </tr>\n",
       "    <tr>\n",
       "      <th>7</th>\n",
       "      <td>5413</td>\n",
       "      <td>big-data,sql,ssis,data-visualization,business-...</td>\n",
       "      <td>0.929772</td>\n",
       "    </tr>\n",
       "    <tr>\n",
       "      <th>3</th>\n",
       "      <td>1273</td>\n",
       "      <td>typescript,python</td>\n",
       "      <td>0.909393</td>\n",
       "    </tr>\n",
       "    <tr>\n",
       "      <th>6</th>\n",
       "      <td>5328</td>\n",
       "      <td>network-infrastructure,cloud-computing,server-...</td>\n",
       "      <td>0.909174</td>\n",
       "    </tr>\n",
       "    <tr>\n",
       "      <th>8</th>\n",
       "      <td>7392</td>\n",
       "      <td>c#,javascript-frameworks,javascript-libraries,...</td>\n",
       "      <td>0.908865</td>\n",
       "    </tr>\n",
       "    <tr>\n",
       "      <th>9</th>\n",
       "      <td>9239</td>\n",
       "      <td>server-infrastructure,devops,it-fundamentals,s...</td>\n",
       "      <td>0.908171</td>\n",
       "    </tr>\n",
       "    <tr>\n",
       "      <th>4</th>\n",
       "      <td>2018</td>\n",
       "      <td>angular,javascript-frameworks,javascript-libra...</td>\n",
       "      <td>0.907982</td>\n",
       "    </tr>\n",
       "  </tbody>\n",
       "</table>\n",
       "</div>"
      ],
      "text/plain": [
       "    user_handle                                       interest_tag  \\\n",
       "0           294  java,design-patterns,python,react.js,nodejs,ht...   \n",
       "1           299  design-patterns,javascript-frameworks,javascri...   \n",
       "2          1206                          java,data-analysis,nodejs   \n",
       "10         9273  maya,zbrush,3d-texturing,3d-animation,pipeline...   \n",
       "5          2931  rapid-application-development,rapid-applicatio...   \n",
       "7          5413  big-data,sql,ssis,data-visualization,business-...   \n",
       "3          1273                                  typescript,python   \n",
       "6          5328  network-infrastructure,cloud-computing,server-...   \n",
       "8          7392  c#,javascript-frameworks,javascript-libraries,...   \n",
       "9          9239  server-infrastructure,devops,it-fundamentals,s...   \n",
       "4          2018  angular,javascript-frameworks,javascript-libra...   \n",
       "\n",
       "    course_level_sim_score  \n",
       "0                 1.000000  \n",
       "1                 1.000000  \n",
       "2                 0.966051  \n",
       "10                0.960215  \n",
       "5                 0.932379  \n",
       "7                 0.929772  \n",
       "3                 0.909393  \n",
       "6                 0.909174  \n",
       "8                 0.908865  \n",
       "9                 0.908171  \n",
       "4                 0.907982  "
      ]
     },
     "execution_count": 87,
     "metadata": {},
     "output_type": "execute_result"
    }
   ],
   "source": [
    "processed_user_interests_df.merge(similar_users, left_on='user_handle', right_on='similar_users').sort_values(by='course_level_sim_score', ascending=False)[['user_handle', 'interest_tag','course_level_sim_score']]"
   ]
  },
  {
   "cell_type": "markdown",
   "metadata": {},
   "source": [
    "Users choosen by the algorithm seem to have shown interest in similar tags"
   ]
  },
  {
   "cell_type": "code",
   "execution_count": null,
   "metadata": {},
   "outputs": [],
   "source": []
  }
 ],
 "metadata": {
  "kernelspec": {
   "display_name": "venv",
   "language": "python",
   "name": "venv"
  },
  "language_info": {
   "codemirror_mode": {
    "name": "ipython",
    "version": 3
   },
   "file_extension": ".py",
   "mimetype": "text/x-python",
   "name": "python",
   "nbconvert_exporter": "python",
   "pygments_lexer": "ipython3",
   "version": "3.7.1"
  }
 },
 "nbformat": 4,
 "nbformat_minor": 1
}
